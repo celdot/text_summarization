{
 "cells": [
  {
   "cell_type": "markdown",
   "id": "c011300a",
   "metadata": {
    "id": "c011300a"
   },
   "source": [
    "## Import libraries"
   ]
  },
  {
   "cell_type": "code",
   "execution_count": 1,
   "id": "5214fc38-6d0f-4b9c-8b1a-16a81c9ccfab",
   "metadata": {},
   "outputs": [
    {
     "name": "stdout",
     "output_type": "stream",
     "text": [
      "Requirement already satisfied: pytorch-ignite in /opt/conda/lib/python3.10/site-packages (0.5.2)\n",
      "Requirement already satisfied: torch<3,>=1.3 in /opt/conda/lib/python3.10/site-packages (from pytorch-ignite) (2.1.2)\n",
      "Requirement already satisfied: packaging in /opt/conda/lib/python3.10/site-packages (from pytorch-ignite) (23.2)\n",
      "Requirement already satisfied: filelock in /opt/conda/lib/python3.10/site-packages (from torch<3,>=1.3->pytorch-ignite) (3.13.1)\n",
      "Requirement already satisfied: typing-extensions in /opt/conda/lib/python3.10/site-packages (from torch<3,>=1.3->pytorch-ignite) (4.9.0)\n",
      "Requirement already satisfied: sympy in /opt/conda/lib/python3.10/site-packages (from torch<3,>=1.3->pytorch-ignite) (1.12)\n",
      "Requirement already satisfied: networkx in /opt/conda/lib/python3.10/site-packages (from torch<3,>=1.3->pytorch-ignite) (3.2.1)\n",
      "Requirement already satisfied: jinja2 in /opt/conda/lib/python3.10/site-packages (from torch<3,>=1.3->pytorch-ignite) (3.1.3)\n",
      "Requirement already satisfied: fsspec in /opt/conda/lib/python3.10/site-packages (from torch<3,>=1.3->pytorch-ignite) (2023.10.0)\n",
      "Requirement already satisfied: nvidia-cuda-nvrtc-cu12==12.1.105 in /opt/conda/lib/python3.10/site-packages (from torch<3,>=1.3->pytorch-ignite) (12.1.105)\n",
      "Requirement already satisfied: nvidia-cuda-runtime-cu12==12.1.105 in /opt/conda/lib/python3.10/site-packages (from torch<3,>=1.3->pytorch-ignite) (12.1.105)\n",
      "Requirement already satisfied: nvidia-cuda-cupti-cu12==12.1.105 in /opt/conda/lib/python3.10/site-packages (from torch<3,>=1.3->pytorch-ignite) (12.1.105)\n",
      "Requirement already satisfied: nvidia-cudnn-cu12==8.9.2.26 in /opt/conda/lib/python3.10/site-packages (from torch<3,>=1.3->pytorch-ignite) (8.9.2.26)\n",
      "Requirement already satisfied: nvidia-cublas-cu12==12.1.3.1 in /opt/conda/lib/python3.10/site-packages (from torch<3,>=1.3->pytorch-ignite) (12.1.3.1)\n",
      "Requirement already satisfied: nvidia-cufft-cu12==11.0.2.54 in /opt/conda/lib/python3.10/site-packages (from torch<3,>=1.3->pytorch-ignite) (11.0.2.54)\n",
      "Requirement already satisfied: nvidia-curand-cu12==10.3.2.106 in /opt/conda/lib/python3.10/site-packages (from torch<3,>=1.3->pytorch-ignite) (10.3.2.106)\n",
      "Requirement already satisfied: nvidia-cusolver-cu12==11.4.5.107 in /opt/conda/lib/python3.10/site-packages (from torch<3,>=1.3->pytorch-ignite) (11.4.5.107)\n",
      "Requirement already satisfied: nvidia-cusparse-cu12==12.1.0.106 in /opt/conda/lib/python3.10/site-packages (from torch<3,>=1.3->pytorch-ignite) (12.1.0.106)\n",
      "Requirement already satisfied: nvidia-nccl-cu12==2.18.1 in /opt/conda/lib/python3.10/site-packages (from torch<3,>=1.3->pytorch-ignite) (2.18.1)\n",
      "Requirement already satisfied: nvidia-nvtx-cu12==12.1.105 in /opt/conda/lib/python3.10/site-packages (from torch<3,>=1.3->pytorch-ignite) (12.1.105)\n",
      "Requirement already satisfied: triton==2.1.0 in /opt/conda/lib/python3.10/site-packages (from torch<3,>=1.3->pytorch-ignite) (2.1.0)\n",
      "Requirement already satisfied: nvidia-nvjitlink-cu12 in /opt/conda/lib/python3.10/site-packages (from nvidia-cusolver-cu12==11.4.5.107->torch<3,>=1.3->pytorch-ignite) (12.3.101)\n",
      "Requirement already satisfied: MarkupSafe>=2.0 in /opt/conda/lib/python3.10/site-packages (from jinja2->torch<3,>=1.3->pytorch-ignite) (2.1.4)\n",
      "Requirement already satisfied: mpmath>=0.19 in /opt/conda/lib/python3.10/site-packages (from sympy->torch<3,>=1.3->pytorch-ignite) (1.3.0)\n",
      "Requirement already satisfied: torcheval in /opt/conda/lib/python3.10/site-packages (0.0.7)\n",
      "Requirement already satisfied: typing-extensions in /opt/conda/lib/python3.10/site-packages (from torcheval) (4.9.0)\n"
     ]
    }
   ],
   "source": [
    "!pip install pytorch-ignite\n",
    "!pip install torcheval"
   ]
  },
  {
   "cell_type": "code",
   "execution_count": 2,
   "id": "dird0uRs9vR5",
   "metadata": {
    "id": "dird0uRs9vR5"
   },
   "outputs": [],
   "source": [
    "COLAB = False"
   ]
  },
  {
   "cell_type": "code",
   "execution_count": 3,
   "id": "IVvWsDoq9w3y",
   "metadata": {
    "colab": {
     "base_uri": "https://localhost:8080/",
     "height": 53
    },
    "executionInfo": {
     "elapsed": 1059,
     "status": "ok",
     "timestamp": 1748290425504,
     "user": {
      "displayName": "IN FP",
      "userId": "08561517695641011702"
     },
     "user_tz": -120
    },
    "id": "IVvWsDoq9w3y",
    "outputId": "5a12b7f2-71cc-4235-c87c-76af65d0219f"
   },
   "outputs": [
    {
     "data": {
      "text/plain": [
       "PosixPath('/home/jovyan/text_summarization')"
      ]
     },
     "execution_count": 3,
     "metadata": {},
     "output_type": "execute_result"
    }
   ],
   "source": [
    "if COLAB:\n",
    "    import sys\n",
    "    import os\n",
    "    from google.colab import drive\n",
    "\n",
    "    # Mount Google Driveroo\n",
    "    drive.mount('/content/drive')\n",
    "\n",
    "    # Add the path to the Python module\n",
    "    root_dir = '/content/drive/MyDrive/text_summarization'\n",
    "    sys.path.append(os.path.join(root_dir, 'src'))\n",
    "    sys.path.append(os.path.join(root_dir, 'src', 'utils'))\n",
    "else:\n",
    "    from pathlib import Path\n",
    "    root_dir = Path.cwd().parent\n",
    "root_dir"
   ]
  },
  {
   "cell_type": "code",
   "execution_count": 4,
   "id": "c378699a",
   "metadata": {
    "colab": {
     "base_uri": "https://localhost:8080/"
    },
    "executionInfo": {
     "elapsed": 1932,
     "status": "ok",
     "timestamp": 1748290427445,
     "user": {
      "displayName": "IN FP",
      "userId": "08561517695641011702"
     },
     "user_tz": -120
    },
    "id": "c378699a",
    "outputId": "e626591d-073b-4109-bd8e-f7bdf8f08db0"
   },
   "outputs": [
    {
     "name": "stderr",
     "output_type": "stream",
     "text": [
      "[nltk_data] Downloading package stopwords to /home/jovyan/nltk_data...\n",
      "[nltk_data]   Package stopwords is already up-to-date!\n"
     ]
    }
   ],
   "source": [
    "import pandas as pd\n",
    "import numpy as np\n",
    "import os\n",
    "import re\n",
    "import numpy as np\n",
    "import nltk\n",
    "nltk.download('stopwords')\n",
    "from nltk.corpus import stopwords\n",
    "stopwords = set(stopwords.words('english'))"
   ]
  },
  {
   "cell_type": "code",
   "execution_count": 5,
   "id": "fb24e461",
   "metadata": {
    "id": "fb24e461"
   },
   "outputs": [],
   "source": [
    "from utils.preprocessing import preprocessing_pipeline, get_data_distribution"
   ]
  },
  {
   "cell_type": "code",
   "execution_count": 6,
   "id": "e32e78e4",
   "metadata": {
    "id": "e32e78e4"
   },
   "outputs": [
    {
     "name": "stderr",
     "output_type": "stream",
     "text": [
      "2025-05-29 13:06:49.955483: I tensorflow/core/util/port.cc:113] oneDNN custom operations are on. You may see slightly different numerical results due to floating-point round-off errors from different computation orders. To turn them off, set the environment variable `TF_ENABLE_ONEDNN_OPTS=0`.\n",
      "2025-05-29 13:06:49.999821: E external/local_xla/xla/stream_executor/cuda/cuda_dnn.cc:9261] Unable to register cuDNN factory: Attempting to register factory for plugin cuDNN when one has already been registered\n",
      "2025-05-29 13:06:49.999847: E external/local_xla/xla/stream_executor/cuda/cuda_fft.cc:607] Unable to register cuFFT factory: Attempting to register factory for plugin cuFFT when one has already been registered\n",
      "2025-05-29 13:06:50.001184: E external/local_xla/xla/stream_executor/cuda/cuda_blas.cc:1515] Unable to register cuBLAS factory: Attempting to register factory for plugin cuBLAS when one has already been registered\n",
      "2025-05-29 13:06:50.008765: I tensorflow/core/platform/cpu_feature_guard.cc:182] This TensorFlow binary is optimized to use available CPU instructions in performance-critical operations.\n",
      "To enable the following instructions: AVX2 AVX512F AVX512_VNNI AVX512_BF16 AVX_VNNI AMX_TILE AMX_INT8 AMX_BF16 FMA, in other operations, rebuild TensorFlow with the appropriate compiler flags.\n"
     ]
    }
   ],
   "source": [
    "from utils.processing import processing_pipeline"
   ]
  },
  {
   "cell_type": "code",
   "execution_count": 7,
   "id": "95a219a2",
   "metadata": {
    "id": "95a219a2"
   },
   "outputs": [],
   "source": [
    "# from train_model import main"
   ]
  },
  {
   "cell_type": "code",
   "execution_count": 8,
   "id": "66186581",
   "metadata": {
    "id": "66186581"
   },
   "outputs": [],
   "source": [
    "PROCESSING = True\n",
    "PREPROCESSING = False"
   ]
  },
  {
   "cell_type": "code",
   "execution_count": 9,
   "id": "3b8b3c11",
   "metadata": {
    "id": "3b8b3c11"
   },
   "outputs": [],
   "source": [
    "name = \"WikiHow\""
   ]
  },
  {
   "cell_type": "code",
   "execution_count": 10,
   "id": "dddaa8e0",
   "metadata": {
    "id": "dddaa8e0"
   },
   "outputs": [],
   "source": [
    "raw_dir = os.path.join(root_dir, \"raw_data\", name)\n",
    "dataset_dir = os.path.join(root_dir, \"data\", name)\n",
    "figures_dir = os.path.join(root_dir, \"figures\", name)\n",
    "os.makedirs(dataset_dir, exist_ok=True)\n",
    "os.makedirs(figures_dir, exist_ok=True)"
   ]
  },
  {
   "cell_type": "markdown",
   "id": "4d1ffb00",
   "metadata": {
    "id": "4d1ffb00"
   },
   "source": [
    "## Get the data"
   ]
  },
  {
   "cell_type": "code",
   "execution_count": 11,
   "id": "c3a38208",
   "metadata": {
    "id": "c3a38208"
   },
   "outputs": [],
   "source": [
    "dataset_df = pd.read_csv(os.path.join(raw_dir, \"wikihowSep.csv\"))"
   ]
  },
  {
   "cell_type": "code",
   "execution_count": 12,
   "id": "db627eaf",
   "metadata": {
    "id": "db627eaf"
   },
   "outputs": [],
   "source": [
    "csv_name = \"wikihow_data\""
   ]
  },
  {
   "cell_type": "markdown",
   "id": "e31e12c1",
   "metadata": {
    "id": "e31e12c1"
   },
   "source": [
    "## Preprocess the data"
   ]
  },
  {
   "cell_type": "code",
   "execution_count": 13,
   "id": "549c6283",
   "metadata": {
    "id": "549c6283"
   },
   "outputs": [],
   "source": [
    "if PREPROCESSING:\n",
    "    dataset_df = preprocessing_pipeline(dataset_df, stopwords, dataset_dir, csv_name, start_token = \"SOS \", end_token = \" EOS\")"
   ]
  },
  {
   "cell_type": "code",
   "execution_count": 14,
   "id": "31f09257",
   "metadata": {
    "colab": {
     "base_uri": "https://localhost:8080/"
    },
    "executionInfo": {
     "elapsed": 5335,
     "status": "ok",
     "timestamp": 1748290468515,
     "user": {
      "displayName": "IN FP",
      "userId": "08561517695641011702"
     },
     "user_tz": -120
    },
    "id": "31f09257",
    "outputId": "eda4d71c-8c70-4912-9e2f-24a19e659e43"
   },
   "outputs": [
    {
     "name": "stdout",
     "output_type": "stream",
     "text": [
      "<class 'pandas.core.frame.DataFrame'>\n",
      "RangeIndex: 1251774 entries, 0 to 1251773\n",
      "Data columns (total 4 columns):\n",
      " #   Column          Non-Null Count    Dtype \n",
      "---  ------          --------------    ----- \n",
      " 0   summary         1251774 non-null  object\n",
      " 1   text            1251774 non-null  object\n",
      " 2   length_summary  1251774 non-null  int64 \n",
      " 3   length_text     1251774 non-null  int64 \n",
      "dtypes: int64(2), object(2)\n",
      "memory usage: 38.2+ MB\n"
     ]
    }
   ],
   "source": [
    "dataset_df = pd.read_csv(os.path.join(root_dir, \"data\", name, f'{csv_name}.csv'))\n",
    "dataset_df.info()"
   ]
  },
  {
   "cell_type": "code",
   "execution_count": 15,
   "id": "kSWsLCeWKqcg",
   "metadata": {
    "colab": {
     "base_uri": "https://localhost:8080/",
     "height": 210
    },
    "executionInfo": {
     "elapsed": 9,
     "status": "ok",
     "timestamp": 1748290468527,
     "user": {
      "displayName": "IN FP",
      "userId": "08561517695641011702"
     },
     "user_tz": -120
    },
    "id": "kSWsLCeWKqcg",
    "outputId": "c2daf0b4-dd08-4f23-b148-f3109c9e9c67"
   },
   "outputs": [
    {
     "data": {
      "text/html": [
       "<div>\n",
       "<style scoped>\n",
       "    .dataframe tbody tr th:only-of-type {\n",
       "        vertical-align: middle;\n",
       "    }\n",
       "\n",
       "    .dataframe tbody tr th {\n",
       "        vertical-align: top;\n",
       "    }\n",
       "\n",
       "    .dataframe thead th {\n",
       "        text-align: right;\n",
       "    }\n",
       "</style>\n",
       "<table border=\"1\" class=\"dataframe\">\n",
       "  <thead>\n",
       "    <tr style=\"text-align: right;\">\n",
       "      <th></th>\n",
       "      <th>summary</th>\n",
       "      <th>text</th>\n",
       "      <th>length_summary</th>\n",
       "      <th>length_text</th>\n",
       "    </tr>\n",
       "  </thead>\n",
       "  <tbody>\n",
       "    <tr>\n",
       "      <th>0</th>\n",
       "      <td>SOS sell first EOS</td>\n",
       "      <td>SOS anything else stop sum artist think transl...</td>\n",
       "      <td>4</td>\n",
       "      <td>55</td>\n",
       "    </tr>\n",
       "    <tr>\n",
       "      <th>1</th>\n",
       "      <td>SOS take good pictures EOS</td>\n",
       "      <td>SOS like say pictures worth thousand words you...</td>\n",
       "      <td>5</td>\n",
       "      <td>75</td>\n",
       "    </tr>\n",
       "    <tr>\n",
       "      <th>2</th>\n",
       "      <td>SOS sure properly license art EOS</td>\n",
       "      <td>SOS licensing art way proving belongs necessar...</td>\n",
       "      <td>6</td>\n",
       "      <td>17</td>\n",
       "    </tr>\n",
       "    <tr>\n",
       "      <th>3</th>\n",
       "      <td>SOS expect gradual process dont expect sell lo...</td>\n",
       "      <td>SOS online art business needs built little lit...</td>\n",
       "      <td>11</td>\n",
       "      <td>68</td>\n",
       "    </tr>\n",
       "    <tr>\n",
       "      <th>4</th>\n",
       "      <td>SOS examine strengths performer EOS</td>\n",
       "      <td>SOS easy spend hours focused arent booking old...</td>\n",
       "      <td>5</td>\n",
       "      <td>26</td>\n",
       "    </tr>\n",
       "  </tbody>\n",
       "</table>\n",
       "</div>"
      ],
      "text/plain": [
       "                                             summary  \\\n",
       "0                                 SOS sell first EOS   \n",
       "1                         SOS take good pictures EOS   \n",
       "2                  SOS sure properly license art EOS   \n",
       "3  SOS expect gradual process dont expect sell lo...   \n",
       "4                SOS examine strengths performer EOS   \n",
       "\n",
       "                                                text  length_summary  \\\n",
       "0  SOS anything else stop sum artist think transl...               4   \n",
       "1  SOS like say pictures worth thousand words you...               5   \n",
       "2  SOS licensing art way proving belongs necessar...               6   \n",
       "3  SOS online art business needs built little lit...              11   \n",
       "4  SOS easy spend hours focused arent booking old...               5   \n",
       "\n",
       "   length_text  \n",
       "0           55  \n",
       "1           75  \n",
       "2           17  \n",
       "3           68  \n",
       "4           26  "
      ]
     },
     "execution_count": 15,
     "metadata": {},
     "output_type": "execute_result"
    }
   ],
   "source": [
    "dataset_df.head()"
   ]
  },
  {
   "cell_type": "markdown",
   "id": "15abfd00",
   "metadata": {
    "id": "15abfd00"
   },
   "source": [
    "## Get distribution of the data"
   ]
  },
  {
   "cell_type": "code",
   "execution_count": 16,
   "id": "cb8f0f01",
   "metadata": {
    "colab": {
     "base_uri": "https://localhost:8080/",
     "height": 602
    },
    "executionInfo": {
     "elapsed": 8582,
     "status": "ok",
     "timestamp": 1748290477113,
     "user": {
      "displayName": "IN FP",
      "userId": "08561517695641011702"
     },
     "user_tz": -120
    },
    "id": "cb8f0f01",
    "outputId": "476bc6e5-ac3f-46e8-920b-f1eab97b9466"
   },
   "outputs": [
    {
     "data": {
      "image/png": "[encoded data removed]",
      "text/plain": [
       "<Figure size 1200x600 with 2 Axes>"
      ]
     },
     "metadata": {},
     "output_type": "display_data"
    }
   ],
   "source": [
    "get_data_distribution(dataset_df, figures_dir, \"wikihow\")"
   ]
  },
  {
   "cell_type": "markdown",
   "id": "596a84bd",
   "metadata": {
    "id": "596a84bd"
   },
   "source": [
    "## Process the datas"
   ]
  },
  {
   "cell_type": "code",
   "execution_count": 17,
   "id": "a564bcf3",
   "metadata": {
    "id": "a564bcf3"
   },
   "outputs": [],
   "source": [
    "load_tokenizer = False\n",
    "max_features = 15000"
   ]
  },
  {
   "cell_type": "code",
   "execution_count": 18,
   "id": "f6d4ef07-990c-4b19-906b-ca0c75c4e833",
   "metadata": {
    "id": "90a837db"
   },
   "outputs": [
    {
     "name": "stdout",
     "output_type": "stream",
     "text": [
      "Max length of text: 88\n",
      "Max length of summary: 12\n",
      "SOS index: 2\n",
      "EOS index: 3\n",
      "Number of Samples in X_train: 876241\n",
      "Number of Samples in X_val: 225319\n",
      "Number of Samples in X_test: 150214\n",
      "Number of Samples in y_train: 876241\n",
      "Number of Samples in y_val: 225319\n",
      "Number of Samples in y_test: 150214\n",
      "Saving x_train.pt...\n",
      "Saving x_val.pt...\n",
      "Saving x_test.pt...\n",
      "Saving y_train.pt...\n",
      "Saving y_val.pt...\n",
      "Saving y_test.pt...\n"
     ]
    }
   ],
   "source": [
    "if PROCESSING:\n",
    "    processing_pipeline(dataset_dir, csv_name, max_features = max_features, load_tokenizer = load_tokenizer)"
   ]
  },
  {
   "cell_type": "markdown",
   "id": "4024c6ff-96de-466d-83e1-f7b14d280c67",
   "metadata": {},
   "source": [
    "### Test the processing"
   ]
  },
  {
   "cell_type": "code",
   "execution_count": 19,
   "id": "33f75936-b37b-4668-8f04-5869ec579b30",
   "metadata": {},
   "outputs": [],
   "source": [
    "test_decoding = True"
   ]
  },
  {
   "cell_type": "code",
   "execution_count": 20,
   "id": "5fc2362a-b656-413e-b6a7-663d3bc9311c",
   "metadata": {},
   "outputs": [
    {
     "name": "stdout",
     "output_type": "stream",
     "text": [
      "Input: ['SOS', 'cut', 'short', 'length', '<unk>', '<unk>', '<unk>', 'silver', 'wire', 'fit', '<unk>', 'hole', 'solder', 'bottom', 'wire', 'back', '<unk>', 'case', 'carefully', 'trim', 'wire', 'length', '<unk>', 'inch', '5', 'mm', 'inserting', 'hole', '<unk>', 'pliers', 'bottom', 'wire', 'must', 'touch', 'inside', 'dome', 'keep', 'pin', 'straight', 'carefully', 'solder', 'place', 'soft', 'flame', '<unk>', 'piece', 'water', 'check', 'strength', 'join', 'fingernail', '<EOS>']\n",
      "Target: ['SOS', 'create', 'insert', '<unk>', 'pin', '<EOS>']\n",
      "-----------------------------------\n",
      "Input: ['SOS', '<unk>', 'period', 'specifies', 'quickly', 'years', 'cash', 'invested', 'particular', 'project', 'recovered', 'example', 'consider', 'project', 'requires', '100000', 'cash', '<unk>', 'immediately', 'expected', 'bring', 'additional', '10000', 'cash', 'year', '20', 'years', '<unk>', 'period', '10', 'years', '10', 'years', 'original', 'cash', '<unk>', 'recovered', '10000', '10', '100000', 'note', '<unk>', 'period', 'calculation', 'take', 'time', 'value', 'money', 'account', 'future', 'cash', 'flows', 'discounted', 'present', 'values', 'instead', 'used', 'face', 'value', 'note', 'also', '<unk>', 'period', 'considers', 'cash', 'flows', 'take', 'account', 'effect', 'depreciation', '<unk>', 'expenses', 'along', 'time', 'value', '<unk>', '<unk>', '<unk>', 'calculation', '<EOS>']\n",
      "Target: ['SOS', 'familiarize', 'basic', '<unk>', '<unk>', 'period', '<EOS>']\n",
      "-----------------------------------\n",
      "Input: ['SOS', 'instance', 'alternate', 'location', 'keeping', 'images', 'add', 'information', '<EOS>']\n",
      "Target: ['SOS', 'decide', 'want', 'back', 'images', '<EOS>']\n",
      "-----------------------------------\n",
      "Input: ['SOS', 'rightclick', '<unk>', 'option', 'task', 'managers', 'service', 'list', 'select', 'start', 'dropdown', 'menu', '<EOS>']\n",
      "Target: ['SOS', 'restart', '<unk>', '<EOS>']\n",
      "-----------------------------------\n",
      "Input: ['SOS', 'stops', 'cooking', 'process', '<EOS>']\n",
      "Target: ['SOS', 'drain', 'carrots', 'use', 'running', 'cold', 'water', '<EOS>']\n",
      "-----------------------------------\n",
      "Input: ['SOS', 'piercing', 'sizes', 'generally', 'follow', 'american', 'wire', 'gauge', 'standard', 'larger', 'number', 'represents', 'smaller', 'size', 'example', 'genital', 'piercings', 'typically', 'done', 'size', '16', 'size', '12', 'though', 'always', 'exceptions', '14', 'gauge', '116', '<EOS>']\n",
      "Target: ['SOS', 'decide', 'size', 'gauge', 'would', 'like', 'pierced', '<EOS>']\n",
      "-----------------------------------\n",
      "Input: ['SOS', 'top', 'screen', 'turn', 'green', '<EOS>']\n",
      "Target: ['SOS', 'slide', 'button', 'next', 'allow', 'notifications', 'position', '<EOS>']\n",
      "-----------------------------------\n",
      "Input: ['SOS', 'replace', 'text', '<unk>', 'name', 'function', 'file', 'choose', 'choose', 'name', 'already', 'use', '<unk>', 'restrictions', 'name', 'must', 'start', 'letter', 'foreign', 'special', 'characters', '<unk>', 'must', 'used', 'place', 'spaces', '<EOS>']\n",
      "Target: ['SOS', 'name', 'function', 'file', '<EOS>']\n",
      "-----------------------------------\n",
      "Input: ['SOS', 'municipal', 'court', 'website', 'contact', 'information', 'clerks', 'office', 'well', 'additional', 'information', 'get', 'court', 'records', 'typically', 'municipal', 'court', 'records', 'available', 'public', 'normal', 'business', 'hours', 'ability', 'go', 'courthouse', 'person', '<EOS>']\n",
      "Target: ['SOS', 'contact', 'clerks', 'office', 'court', 'case', 'heard', '<EOS>']\n",
      "-----------------------------------\n",
      "Input: ['SOS', 'try', 'go', 'sleep', 'wake', 'around', 'time', 'every', 'day', 'start', 'end', 'work', 'strict', 'schedule', 'well', 'help', 'better', 'estimate', 'exactly', 'much', 'accomplish', '<unk>', 'example', 'wake', '<unk>', 'morning', 'get', 'office', '9', 'start', 'day', 'consistently', 'leave', 'office', '5', 'pm', 'scheduled', '<EOS>']\n",
      "Target: ['SOS', 'establish', 'routine', '<EOS>']\n",
      "-----------------------------------\n"
     ]
    }
   ],
   "source": [
    "if test_decoding:\n",
    "    import torch\n",
    "    import pickle\n",
    "    import random\n",
    "    \n",
    "    def decode_data(text_ids, index2word, EOS_token):\n",
    "        \"\"\"\n",
    "        Converts the text ids to words using the index2word mapping.\n",
    "        \"\"\"\n",
    "        if text_ids.dim() > 1:\n",
    "            text_ids = text_ids.view(-1)  # Flatten to 1D\n",
    "    \n",
    "        decoded_words = []\n",
    "        for idx in text_ids:\n",
    "            # Ensure idx is a scalar\n",
    "            if isinstance(idx, torch.Tensor):\n",
    "                idx = idx.item()\n",
    "            if idx == EOS_token:\n",
    "                decoded_words.append('<EOS>')\n",
    "                break\n",
    "            decoded_words.append(index2word.get(idx, '<UNK>'))\n",
    "    \n",
    "        return decoded_words\n",
    "    \n",
    "    X_train = torch.load(os.path.join(dataset_dir, \"x_train.pt\"))\n",
    "    y_train = torch.load(os.path.join(dataset_dir, \"y_train.pt\"))\n",
    "    \n",
    "    train_dataloader = torch.utils.data.DataLoader(\n",
    "        torch.utils.data.TensorDataset(X_train, y_train),\n",
    "        batch_size=1,\n",
    "        shuffle=False,\n",
    "    )\n",
    "    with open(os.path.join(dataset_dir, 'feature_tokenizer.pickle'), 'rb') as handle:\n",
    "            feature_tokenizer = pickle.load(handle)\n",
    "    EOS_token = feature_tokenizer.word_index[\"EOS\"]\n",
    "    \n",
    "    nb_decoding_test = 10\n",
    "    count_test = 0\n",
    "    random_list = random.sample(range(len(train_dataloader)), nb_decoding_test)\n",
    "    for i, data in enumerate(train_dataloader):\n",
    "        if i in random_list:\n",
    "            input_tensor, target_tensor = data\n",
    "            print('Input: {}'.format(decode_data(input_tensor[0], feature_tokenizer.index_word, EOS_token)))\n",
    "            print('Target: {}'.format(decode_data(target_tensor[0], feature_tokenizer.index_word, EOS_token)))\n",
    "            print('-----------------------------------')\n",
    "            count_test += 1\n",
    "        if count_test == nb_decoding_test:\n",
    "            break"
   ]
  },
  {
   "cell_type": "markdown",
   "id": "17b32c9d",
   "metadata": {
    "id": "17b32c9d"
   },
   "source": [
    "## Train the model"
   ]
  },
  {
   "cell_type": "code",
   "execution_count": null,
   "id": "HfON1PMQATLg",
   "metadata": {
    "id": "HfON1PMQATLg"
   },
   "outputs": [
    {
     "name": "stderr",
     "output_type": "stream",
     "text": [
      "/opt/conda/lib/python3.10/site-packages/transformers/utils/hub.py:124: FutureWarning: Using `TRANSFORMERS_CACHE` is deprecated and will be removed in v5 of Transformers. Use `HF_HOME` instead.\n",
      "  warnings.warn(\n"
     ]
    }
   ],
   "source": [
    "import random\n",
    "\n",
    "import matplotlib.pyplot as plt\n",
    "import torch\n",
    "import torch.nn as nn\n",
    "import torch.nn.functional as F\n",
    "import torch.optim as optim\n",
    "from ignite.metrics import Rouge\n",
    "from torcheval.metrics.functional import bleu_score\n",
    "from tqdm import tqdm\n",
    "\n",
    "from utils.models import AttnDecoderRNN, EncoderRNN\n",
    "from utils.processing import processing_pipeline\n",
    "\n",
    "plt.switch_backend('agg')\n",
    "import argparse\n",
    "import pickle\n",
    "from pathlib import Path\n",
    "\n",
    "import matplotlib.ticker as ticker\n",
    "import numpy as np\n",
    "\n",
    "\n",
    "def plot_losses(figures_dir, train_losses, val_losses):\n",
    "    \"\"\"\n",
    "    Plots the training and validation losses.\n",
    "    \"\"\"\n",
    "    fig = plt.figure(figsize=(10, 5))\n",
    "    plt.plot(train_losses, label='Training Loss')\n",
    "    plt.plot(val_losses, label='Validation Loss')\n",
    "    plt.xlabel('Epochs')\n",
    "    plt.ylabel('Loss')\n",
    "    plt.title('Training and Validation Losses')\n",
    "    plt.legend()\n",
    "    plt.savefig(os.path.join(figures_dir, 'losses.png'))\n",
    "    plt.close(fig)\n",
    "\n",
    "def evaluate_loss(dataloader, encoder, decoder, criterion):\n",
    "    total_loss = 0\n",
    "    batch_count = 0\n",
    "    with torch.no_grad():\n",
    "        for data in dataloader:\n",
    "            batch_count += 1\n",
    "            input_tensor, target_tensor = data\n",
    "\n",
    "            encoder_outputs, encoder_hidden = encoder(input_tensor)\n",
    "            decoder_outputs, _, _ = decoder(encoder_outputs, encoder_hidden, target_tensor)\n",
    "\n",
    "            loss = criterion(\n",
    "            decoder_outputs.view(-1, decoder_outputs.size(-1)),\n",
    "            target_tensor.view(-1)\n",
    "            )\n",
    "            total_loss += loss.item()\n",
    "\n",
    "            if batch_count == 50:\n",
    "                return total_loss / batch_count\n",
    "\n",
    "    return total_loss / len(dataloader)\n",
    "\n",
    "def decode_data(text_ids, index2word, EOS_token):\n",
    "    \"\"\"\n",
    "    Converts the text ids to words using the index2word mapping.\n",
    "    \"\"\"\n",
    "    if text_ids.dim() > 1:\n",
    "        text_ids = text_ids.view(-1)  # Flatten to 1D\n",
    "\n",
    "    decoded_words = []\n",
    "    for idx in text_ids:\n",
    "        # Ensure idx is a scalar\n",
    "        if isinstance(idx, torch.Tensor):\n",
    "            idx = idx.item()\n",
    "        if idx == EOS_token:\n",
    "            decoded_words.append('EOS')\n",
    "            break\n",
    "        decoded_words.append(index2word.get(idx, '<UNK>'))\n",
    "\n",
    "    return \" \".join(decoded_words)\n",
    "\n",
    "def make_predictions(encoder, decoder, input_tensor, target_tensor, index2word, EOS_token):\n",
    "    \"\"\"\n",
    "    Computes the summary for the given input tensor and target tensor.\n",
    "    \"\"\"\n",
    "    input_tensor = input_tensor[0].unsqueeze(0)\n",
    "    target_tensor = target_tensor[0].unsqueeze(0)\n",
    "\n",
    "    encoder_outputs, encoder_hidden = encoder(input_tensor)\n",
    "    decoder_outputs, _, _ = decoder(encoder_outputs, encoder_hidden, target_tensor)\n",
    "\n",
    "    # Get the predicted words\n",
    "    _, topi = decoder_outputs.topk(1)\n",
    "    decoded_words = decode_data(topi.squeeze(), index2word, EOS_token)\n",
    "\n",
    "    # Get the target words\n",
    "    target_words = decode_data(target_tensor, index2word, EOS_token)\n",
    "\n",
    "    return decoded_words, target_words\n",
    "\n",
    "def compute_metrics(predictions, targets, n):\n",
    "    \"\"\"\n",
    "    Computes the BLEU score and ROUGE score for the predictions and targets.\n",
    "    \"\"\"    \n",
    "    metrics = {}\n",
    "    rouge_metrics = Rouge(variants=[\"L\", n], multiref=\"best\")\n",
    "    \n",
    "    metrics[\"bleu\"] = bleu_score(predictions, targets, n_gram=n)\n",
    "\n",
    "    list_predictions = []\n",
    "    list_targets = []\n",
    "    for pred in predictions:\n",
    "        list_predictions.append(pred.split())\n",
    "    for target in targets:\n",
    "        list_targets.append(target.split())\n",
    "\n",
    "    rouge_metrics.update((list_predictions,  [list_targets]))\n",
    "    metrics.update(rouge_metrics.compute())\n",
    "\n",
    "    return metrics\n",
    "\n",
    "def evaluate_model(encoder, decoder, dataloader, index2word, EOS_token):\n",
    "    \"\"\"\n",
    "    Evaluates the model on the given dataloader.\n",
    "    \"\"\"\n",
    "    encoder.eval()\n",
    "    decoder.eval()\n",
    "\n",
    "    predictions = []\n",
    "    targets = []\n",
    "\n",
    "    batch_count = 0\n",
    "    with torch.no_grad():\n",
    "        for data in dataloader:\n",
    "            batch_count += 1\n",
    "            input_tensor, target_tensor = data\n",
    "\n",
    "            predicted_words, target_words = make_predictions(encoder, decoder, input_tensor, target_tensor, index2word, EOS_token)\n",
    "\n",
    "            predictions.append(predicted_words)\n",
    "            targets.append(target_words)\n",
    "\n",
    "            if batch_count == 50:\n",
    "                break\n",
    "\n",
    "    return compute_metrics(predictions, targets, n=2)\n",
    "\n",
    "def train_epoch(dataloader, encoder, decoder, encoder_optimizer,\n",
    "          decoder_optimizer, criterion):\n",
    "\n",
    "    encoder.train()\n",
    "    decoder.train()\n",
    "\n",
    "    print_every_batch = 100\n",
    "    batch_count = 0\n",
    "    total_loss = 0\n",
    "    for data in tqdm(dataloader):\n",
    "        batch_count += 1\n",
    "        input_tensor, target_tensor = data\n",
    "\n",
    "        encoder_optimizer.zero_grad()\n",
    "        decoder_optimizer.zero_grad()\n",
    "\n",
    "        encoder_outputs, encoder_hidden = encoder(input_tensor)\n",
    "        decoder_outputs, _, _ = decoder(encoder_outputs, encoder_hidden, target_tensor)\n",
    "\n",
    "        loss = criterion(\n",
    "            decoder_outputs.view(-1, decoder_outputs.size(-1)),\n",
    "            target_tensor.view(-1)\n",
    "        )\n",
    "        loss.backward()\n",
    "\n",
    "        encoder_optimizer.step()\n",
    "        decoder_optimizer.step()\n",
    "\n",
    "        total_loss += loss.item()\n",
    "\n",
    "        if batch_count % print_every_batch == 0:\n",
    "          print(\"current loss\", total_loss/batch_count)\n",
    "\n",
    "        if batch_count == 50:\n",
    "            return total_loss / batch_count\n",
    "\n",
    "    return total_loss / len(dataloader)\n",
    "\n",
    "def train(train_dataloader, val_dataloader, encoder, decoder, criterion,\n",
    "          index2words, EOS_token, save_directory, figures_dir,\n",
    "          n_epochs= 50, learning_rate=0.001, weight_decay=1e-5,\n",
    "          print_every=100, plot_every=100, save_every=100, print_examples_every=5):\n",
    "\n",
    "    # Initializations\n",
    "    print('Initializing ...')\n",
    "    plot_train_losses = []\n",
    "    plot_val_losses = []\n",
    "    print_train_loss_total = 0  # Reset every print_every\n",
    "    plot_train_loss_total = 0  # Reset every plot_every\n",
    "    print_val_loss_total = 0  # Reset every print_every\n",
    "    plot_val_loss_total = 0  # Reset every plot_every\n",
    "    best_val_loss = float('inf')\n",
    "\n",
    "    encoder_optimizer = optim.Adam(encoder.parameters(), lr=learning_rate, weight_decay=weight_decay)\n",
    "    decoder_optimizer = optim.Adam(decoder.parameters(), lr=learning_rate, weight_decay=weight_decay)\n",
    "\n",
    "    # Training loop\n",
    "    print(\"Training...\")\n",
    "    for epoch in range(1, n_epochs + 1):\n",
    "        training_loss = train_epoch(train_dataloader, encoder, decoder, encoder_optimizer, decoder_optimizer, criterion)\n",
    "        print_train_loss_total += training_loss\n",
    "        plot_train_loss_total += training_loss\n",
    "\n",
    "        # Evaluate on validation set\n",
    "        val_loss = evaluate_loss(val_dataloader, encoder, decoder, criterion)\n",
    "        print_val_loss_total += val_loss\n",
    "        plot_val_loss_total += val_loss\n",
    "\n",
    "        # Save the best model\n",
    "        if val_loss < best_val_loss:\n",
    "            best_val_loss = val_loss\n",
    "            torch.save({\n",
    "                'epoch': epoch,\n",
    "                'en': encoder.state_dict(),\n",
    "                'de': decoder.state_dict(),\n",
    "            }, os.path.join(save_directory, 'best_checkpoint.tar'))\n",
    "\n",
    "        # Print progress\n",
    "        if epoch % print_every == 0:\n",
    "            print_train_loss_total = print_train_loss_total / print_every\n",
    "            print_val_loss_total = print_val_loss_total / print_every\n",
    "            print('epoch: {}; Average training loss: {:.4f}; Average validation loss: {:.4f}.'.format(\n",
    "                    epoch, epoch / n_epochs * 100, print_train_loss_total, print_val_loss_total))\n",
    "\n",
    "        if epoch % print_examples_every == 0:\n",
    "            # Compute metrics for validation set\n",
    "            val_metrics = evaluate_model(encoder, decoder, val_dataloader, index2words, EOS_token)\n",
    "            print('BLEU score: {:.4f}'.format(val_metrics['bleu']))\n",
    "            print('ROUGE-L score: {:.4f}'.format(val_metrics['Rouge-L-F']))\n",
    "            print('ROUGE-2 score: {:.4f}'.format(val_metrics['Rouge-2-F']))\n",
    "            print('-----------------------------------')\n",
    "            print_train_loss_total = 0\n",
    "            print_val_loss_total = 0\n",
    "            # Get a random sample from the validation set\n",
    "            index = random.randint(0, len(val_dataloader) - 1)\n",
    "            for i, data in enumerate(val_dataloader):\n",
    "                if i == index:\n",
    "                    input_tensor, target_tensor = data\n",
    "                    break\n",
    "            decoded_words, target_words = make_predictions(encoder, decoder, input_tensor, target_tensor, index2words, EOS_token)\n",
    "            print('Input: {}'.format(decode_data(input_tensor[0], feature_tokenizer.index_word, EOS_token)))\n",
    "            print('Target: {}'.format(target_words))\n",
    "            print('Predicted: {}'.format(decoded_words))\n",
    "            print('-----------------------------------')\n",
    "\n",
    "        # Plot loss progress\n",
    "        if epoch % plot_every == 0:\n",
    "            plot_loss_avg = plot_train_loss_total / plot_every\n",
    "            plot_train_losses.append(plot_loss_avg)\n",
    "            plot_val_loss_avg = plot_val_loss_total / plot_every\n",
    "            plot_val_losses.append(plot_val_loss_avg)\n",
    "            plot_train_loss_total = 0\n",
    "            plot_val_loss_total = 0\n",
    "\n",
    "    plot_losses(figures_dir, plot_train_losses, plot_val_losses)\n",
    "\n",
    "def main(root_dir,\n",
    "    load_checkpoint = False,     \n",
    "    hidden_size = 128,\n",
    "    name = \"WikiHow\",\n",
    "    max_length = 50,\n",
    "    lr = 0.001,\n",
    "    weight_decay = 1e-4,\n",
    "    batch_size = 32,\n",
    "    num_workers = 4,\n",
    "    n_epochs = 50,\n",
    "    print_every = 10,\n",
    "    plot_every = 10,\n",
    "    save_every = 10,\n",
    "    print_examples_every=5,\n",
    "    ):\n",
    "    device = torch.device(\"cuda\" if torch.cuda.is_available() else \"cpu\")\n",
    "    print(device)\n",
    "\n",
    "    # Random seed for reproducibility\n",
    "    random.seed(5719)\n",
    "    np.random.seed(5719)\n",
    "    torch.manual_seed(5719)\n",
    "    torch.use_deterministic_algorithms(False)\n",
    "\n",
    "    # Get directories\n",
    "    dataset_dir = os.path.join(root_dir, 'data', name)\n",
    "    save_dir = os.path.join(root_dir, 'checkpoints', name)\n",
    "    figures_dir = os.path.join(root_dir, 'figures', name)\n",
    "\n",
    "    os.makedirs(save_dir, exist_ok=True)\n",
    "    os.makedirs(figures_dir, exist_ok=True)\n",
    "\n",
    "    # Load the dataset\n",
    "    X_train = torch.load(os.path.join(dataset_dir, \"x_train.pt\"))\n",
    "    X_val = torch.load(os.path.join(dataset_dir, \"x_val.pt\"))\n",
    "    X_test = torch.load(os.path.join(dataset_dir, \"x_test.pt\"))\n",
    "    y_train = torch.load(os.path.join(dataset_dir, \"y_train.pt\"))\n",
    "    y_val = torch.load(os.path.join(dataset_dir, \"y_val.pt\"))\n",
    "    y_test = torch.load(os.path.join(dataset_dir, \"y_test.pt\"))    \n",
    "\n",
    "    train_dataloader = torch.utils.data.DataLoader(\n",
    "        torch.utils.data.TensorDataset(X_train, y_train),\n",
    "        batch_size=batch_size,\n",
    "        shuffle=True,\n",
    "    )\n",
    "    val_dataloader = torch.utils.data.DataLoader(\n",
    "        torch.utils.data.TensorDataset(X_val, y_val),\n",
    "        batch_size=batch_size,\n",
    "        shuffle=True,\n",
    "    )\n",
    "    test_dataloader = torch.utils.data.DataLoader(\n",
    "        torch.utils.data.TensorDataset(X_test, y_test),\n",
    "        batch_size=batch_size,\n",
    "        shuffle=True,\n",
    "    )\n",
    "\n",
    "    # Load the vocabulary\n",
    "    with open(os.path.join(dataset_dir, 'feature_tokenizer.pickle'), 'rb') as handle:\n",
    "            feature_tokenizer = pickle.load(handle)\n",
    "\n",
    "    num_words_text = max(feature_tokenizer.word_index.values()) + 1\n",
    "    EOS_token = feature_tokenizer.word_index[\"EOS\"]\n",
    "\n",
    "    # Initialize the model\n",
    "    encoder = EncoderRNN(num_words_text, hidden_size).to(device)\n",
    "    decoder = AttnDecoderRNN(hidden_size, num_words_text, max_length).to(device)\n",
    "    criterion = nn.NLLLoss(ignore_index=0)\n",
    "\n",
    "    if load_checkpoint:\n",
    "      # Load the best model\n",
    "      checkpoint = torch.load(os.path.join(save_dir, 'best_checkpoint.tar'))\n",
    "      encoder.load_state_dict(checkpoint['encoder'])\n",
    "      decoder.load_state_dict(checkpoint['decoder'])\n",
    "\n",
    "    # Train the model\n",
    "    train(train_dataloader, val_dataloader, encoder, decoder, criterion,\n",
    "          feature_tokenizer.index_word, EOS_token, save_dir, figures_dir,\n",
    "          learning_rate=lr, weight_decay=weight_decay, n_epochs=n_epochs,\n",
    "          print_every=print_every, plot_every=plot_every, save_every=save_every, print_examples_every=print_examples_every)\n",
    "\n",
    "    # Load the best model\n",
    "    checkpoint = torch.load(os.path.join(save_dir, 'best_checkpoint.tar'))\n",
    "    encoder.load_state_dict(checkpoint['en'])\n",
    "    decoder.load_state_dict(checkpoint['de'])\n",
    "\n",
    "    # Test the model\n",
    "    test_loss = evaluate_loss(test_dataloader, encoder, decoder, criterion)\n",
    "    print('Test loss: {:.4f}'.format(test_loss))\n",
    "\n",
    "    # Evaluate the model\n",
    "    metrics = evaluate_model(encoder, decoder, test_dataloader, feature_tokenizer.index_word, EOS_token)\n",
    "    print('BLEU score: {:.4f}'.format(metrics['bleu']))\n",
    "    print('ROUGE-L score: {:.4f}'.format(metrics['Rouge-L-F']))\n",
    "    print('ROUGE-2 score: {:.4f}'.format(metrics['Rouge-2-F']))\n",
    "    print('-----------------------------------')\n",
    "    # Get a random sample from the test set\n",
    "    index = random.randint(0, len(test_dataloader) - 1)\n",
    "    for i, data in enumerate(test_dataloader):\n",
    "        if i == index:\n",
    "            input_tensor, target_tensor = data\n",
    "            break\n",
    "    decoded_words, target_words = make_predictions(encoder, decoder, input_tensor, target_tensor, feature_tokenizer.index_word, EOS_token)\n",
    "    print('Input: {}'.format(decode_data(input_tensor[0], feature_tokenizer.index_word, EOS_token)))\n",
    "    print('Target: {}'.format(target_words))\n",
    "    print('Predicted: {}'.format(decoded_words))\n",
    "    print('-----------------------------------')"
   ]
  },
  {
   "cell_type": "code",
   "execution_count": null,
   "id": "db7f42f2",
   "metadata": {
    "id": "db7f42f2"
   },
   "outputs": [],
   "source": [
    "hidden_size = 128\n",
    "max_length = 50\n",
    "lr = 0.001\n",
    "weight_decay = 1e-4\n",
    "batch_size = 64\n",
    "num_workers = 16\n",
    "n_epochs = 5\n",
    "print_every = 1\n",
    "plot_every = 1\n",
    "save_every = 1\n",
    "print_example_every = 1\n",
    "load_checkpoint = False"
   ]
  },
  {
   "cell_type": "code",
   "execution_count": 23,
   "id": "7bde23ac",
   "metadata": {
    "colab": {
     "base_uri": "https://localhost:8080/",
     "height": 561
    },
    "executionInfo": {
     "elapsed": 977047,
     "status": "error",
     "timestamp": 1748294670175,
     "user": {
      "displayName": "IN FP",
      "userId": "08561517695641011702"
     },
     "user_tz": -120
    },
    "id": "7bde23ac",
    "outputId": "b5ef08c6-afff-40e7-a72c-49936dcaf55f"
   },
   "outputs": [
    {
     "name": "stdout",
     "output_type": "stream",
     "text": [
      "cuda\n",
      "Initializing ...\n",
      "Training...\n"
     ]
    },
    {
     "name": "stderr",
     "output_type": "stream",
     "text": [
      "  0%|          | 49/27383 [00:06<56:37,  8.04it/s] \n"
     ]
    },
    {
     "name": "stdout",
     "output_type": "stream",
     "text": [
      "epoch: 1; Average training loss: 2.0000; Average validation loss: 8.2633.\n",
      "BLEU score: 0.0746\n",
      "ROUGE-L score: 0.0000\n",
      "ROUGE-2 score: 0.0000\n",
      "-----------------------------------\n",
      "Input: ['SOS', 'take', 'kissing', 'partners', 'bottom', 'lip', 'top', 'bottom', 'teeth', 'use', 'light', 'pressure', 'grab', 'lip', 'tug', 'bit', 'typically', 'aim', 'bottom', 'lip', 'experiment', '<unk>', 'upper', 'lip', 'well', 'light', 'bite', 'tug', 'bottom', 'lip', 'usually', 'considered', 'sensual', 'EOS']\n",
      "Target: ['SOS', 'gently', 'grab', 'lip', 'teeth', 'EOS']\n",
      "Predicted: ['SOS', '<unk>', '<unk>', 'EOS']\n",
      "-----------------------------------\n"
     ]
    },
    {
     "name": "stderr",
     "output_type": "stream",
     "text": [
      "  0%|          | 49/27383 [00:05<53:42,  8.48it/s] \n"
     ]
    },
    {
     "name": "stdout",
     "output_type": "stream",
     "text": [
      "epoch: 2; Average training loss: 4.0000; Average validation loss: 6.4050.\n",
      "BLEU score: 0.0366\n",
      "ROUGE-L score: 0.0000\n",
      "ROUGE-2 score: 0.0000\n",
      "-----------------------------------\n",
      "Input: ['SOS', 'want', 'cat', 'use', 'cat', 'bed', 'instead', 'spending', 'day', '<unk>', 'furniture', 'place', 'bed', 'area', 'cat', 'already', 'likes', 'sleep', 'may', 'prompt', 'cat', 'use', 'bed', 'EOS']\n",
      "Target: ['SOS', 'place', 'bed', 'cat', 'enjoys', 'sleeping', 'EOS']\n",
      "Predicted: ['SOS', 'get', '<unk>', 'EOS']\n",
      "-----------------------------------\n"
     ]
    },
    {
     "name": "stderr",
     "output_type": "stream",
     "text": [
      "  0%|          | 49/27383 [00:05<53:37,  8.49it/s] \n"
     ]
    },
    {
     "name": "stdout",
     "output_type": "stream",
     "text": [
      "epoch: 3; Average training loss: 6.0000; Average validation loss: 6.1857.\n",
      "BLEU score: 0.0626\n",
      "ROUGE-L score: 0.0000\n",
      "ROUGE-2 score: 0.0000\n",
      "-----------------------------------\n",
      "Input: ['SOS', 'lighthearted', 'speech', 'dont', 'afraid', 'crack', 'jokes', 'however', 'remember', 'keep', 'audience', 'mind', 'keep', 'clean', 'rule', 'wouldnt', 'tell', 'joke', 'grandmother', 'maybe', 'shouldnt', 'tell', 'speech', 'EOS']\n",
      "Target: ['SOS', 'make', 'jokes', 'appropriate', 'EOS']\n",
      "Predicted: ['SOS', 'make', '<unk>', 'EOS']\n",
      "-----------------------------------\n"
     ]
    },
    {
     "name": "stderr",
     "output_type": "stream",
     "text": [
      "  0%|          | 49/27383 [00:05<53:49,  8.47it/s] \n"
     ]
    },
    {
     "name": "stdout",
     "output_type": "stream",
     "text": [
      "epoch: 4; Average training loss: 8.0000; Average validation loss: 6.0909.\n",
      "BLEU score: 0.0729\n",
      "ROUGE-L score: 0.0000\n",
      "ROUGE-2 score: 0.0000\n",
      "-----------------------------------\n",
      "Input: ['SOS', 'download', 'itunes', 'free', '<unk>', 'EOS']\n",
      "Target: ['SOS', 'visit', 'itunes', 'website', 'EOS']\n",
      "Predicted: ['SOS', 'get', '<unk>', 'EOS']\n",
      "-----------------------------------\n"
     ]
    },
    {
     "name": "stderr",
     "output_type": "stream",
     "text": [
      "  0%|          | 49/27383 [00:05<53:37,  8.49it/s] \n"
     ]
    },
    {
     "name": "stdout",
     "output_type": "stream",
     "text": [
      "epoch: 5; Average training loss: 10.0000; Average validation loss: 5.9272.\n",
      "BLEU score: 0.0957\n",
      "ROUGE-L score: 0.0000\n",
      "ROUGE-2 score: 0.0000\n",
      "-----------------------------------\n",
      "Input: ['SOS', 'plug', 'value', 'equation', 'multiply', 'example', '<unk>', '<unk>', '<unk>', 'equation', 'look', 'like', '<unk>', '<unk>', 'get', '<unk>', '<unk>', 'EOS']\n",
      "Target: ['SOS', 'use', 'calculator', 'find', '<unk>', 'angle', 'EOS']\n",
      "Predicted: ['SOS', 'use', '<unk>', '<unk>', 'EOS']\n",
      "-----------------------------------\n"
     ]
    },
    {
     "name": "stderr",
     "output_type": "stream",
     "text": [
      "  0%|          | 49/27383 [00:05<53:37,  8.49it/s] \n"
     ]
    },
    {
     "name": "stdout",
     "output_type": "stream",
     "text": [
      "epoch: 6; Average training loss: 12.0000; Average validation loss: 5.9247.\n",
      "BLEU score: 0.0773\n",
      "ROUGE-L score: 0.0000\n",
      "ROUGE-2 score: 0.0000\n",
      "-----------------------------------\n",
      "Input: ['SOS', '<unk>', 'formula', 'asks', 'three', 'sides', 'triangle', 'sides', 'stored', 'variables', 'abc', 'change', 'time', 'tell', 'calculator', 'order', 'would', 'need', 'use', 'prompt', 'command', 'hit', 'move', '<unk>', '<unk>', 'move', '<unk>', 'hit', 'takes', 'back', 'creating', 'screen', 'EOS']\n",
      "Target: ['SOS', 'hopefully', 'know', 'formula', 'dont', 'look', 'EOS']\n",
      "Predicted: ['SOS', 'make', '<unk>', 'EOS']\n",
      "-----------------------------------\n"
     ]
    },
    {
     "name": "stderr",
     "output_type": "stream",
     "text": [
      "  0%|          | 49/27383 [00:05<53:39,  8.49it/s] \n"
     ]
    },
    {
     "name": "stdout",
     "output_type": "stream",
     "text": [
      "epoch: 7; Average training loss: 14.0000; Average validation loss: 5.8663.\n",
      "BLEU score: 0.0423\n",
      "ROUGE-L score: 0.0000\n",
      "ROUGE-2 score: 0.0000\n",
      "-----------------------------------\n",
      "Input: ['SOS', 'must', 'every', 'dog', 'puppy', 'make', 'sure', 'puppy', 'old', 'enough', 'take', 'medication', 'age', 'minimum', 'six', 'weeks', 'could', 'longer', 'make', 'sure', 'check', 'packaging', 'EOS']\n",
      "Target: ['SOS', 'something', 'else', 'need', 'get', '<unk>', 'dog', 'soap', 'flea', 'collar', 'EOS']\n",
      "Predicted: ['SOS', 'get', '<unk>', 'EOS']\n",
      "-----------------------------------\n"
     ]
    },
    {
     "name": "stderr",
     "output_type": "stream",
     "text": [
      "  0%|          | 49/27383 [00:05<53:42,  8.48it/s] \n"
     ]
    },
    {
     "name": "stdout",
     "output_type": "stream",
     "text": [
      "epoch: 8; Average training loss: 16.0000; Average validation loss: 5.8130.\n",
      "BLEU score: 0.0348\n",
      "ROUGE-L score: 0.0000\n",
      "ROUGE-2 score: 0.0000\n",
      "-----------------------------------\n",
      "Input: ['SOS', 'party', 'done', 'tell', 'mom', 'youll', 'clean', 'encourage', 'whatever', 'wants', 'key', 'make', 'sure', 'end', 'day', 'relaxing', 'maybe', 'shell', 'cup', 'tea', 'talk', 'clean', 'maybe', 'shell', 'go', 'bath', 'sit', 'couch', 'watch', 'favorite', 'show', 'EOS']\n",
      "Target: ['SOS', 'give', 'mom', 'quiet', 'time', 'end', 'night', 'EOS']\n",
      "Predicted: ['SOS', 'get', 'EOS']\n",
      "-----------------------------------\n"
     ]
    },
    {
     "name": "stderr",
     "output_type": "stream",
     "text": [
      "  0%|          | 49/27383 [00:05<53:42,  8.48it/s] \n"
     ]
    },
    {
     "ename": "KeyboardInterrupt",
     "evalue": "",
     "output_type": "error",
     "traceback": [
      "\u001b[0;31m---------------------------------------------------------------------------\u001b[0m",
      "\u001b[0;31mKeyboardInterrupt\u001b[0m                         Traceback (most recent call last)",
      "Cell \u001b[0;32mIn[23], line 1\u001b[0m\n\u001b[0;32m----> 1\u001b[0m \u001b[43mmain\u001b[49m\u001b[43m(\u001b[49m\n\u001b[1;32m      2\u001b[0m \u001b[43m    \u001b[49m\u001b[43mroot_dir\u001b[49m\u001b[43m \u001b[49m\u001b[38;5;241;43m=\u001b[39;49m\u001b[43m \u001b[49m\u001b[43mroot_dir\u001b[49m\u001b[43m,\u001b[49m\n\u001b[1;32m      3\u001b[0m \u001b[43m    \u001b[49m\u001b[43mload_checkpoint\u001b[49m\u001b[43m \u001b[49m\u001b[38;5;241;43m=\u001b[39;49m\u001b[43m \u001b[49m\u001b[43mload_checkpoint\u001b[49m\u001b[43m,\u001b[49m\n\u001b[1;32m      4\u001b[0m \u001b[43m    \u001b[49m\u001b[43mhidden_size\u001b[49m\u001b[38;5;241;43m=\u001b[39;49m\u001b[43mhidden_size\u001b[49m\u001b[43m,\u001b[49m\n\u001b[1;32m      5\u001b[0m \u001b[43m    \u001b[49m\u001b[43mname\u001b[49m\u001b[38;5;241;43m=\u001b[39;49m\u001b[43mname\u001b[49m\u001b[43m,\u001b[49m\n\u001b[1;32m      6\u001b[0m \u001b[43m    \u001b[49m\u001b[43mmax_length\u001b[49m\u001b[38;5;241;43m=\u001b[39;49m\u001b[43mmax_length\u001b[49m\u001b[43m,\u001b[49m\n\u001b[1;32m      7\u001b[0m \u001b[43m    \u001b[49m\u001b[43mlr\u001b[49m\u001b[38;5;241;43m=\u001b[39;49m\u001b[43mlr\u001b[49m\u001b[43m,\u001b[49m\n\u001b[1;32m      8\u001b[0m \u001b[43m    \u001b[49m\u001b[43mweight_decay\u001b[49m\u001b[38;5;241;43m=\u001b[39;49m\u001b[43mweight_decay\u001b[49m\u001b[43m,\u001b[49m\n\u001b[1;32m      9\u001b[0m \u001b[43m    \u001b[49m\u001b[43mbatch_size\u001b[49m\u001b[38;5;241;43m=\u001b[39;49m\u001b[43mbatch_size\u001b[49m\u001b[43m,\u001b[49m\n\u001b[1;32m     10\u001b[0m \u001b[43m    \u001b[49m\u001b[43mnum_workers\u001b[49m\u001b[38;5;241;43m=\u001b[39;49m\u001b[43mnum_workers\u001b[49m\u001b[43m,\u001b[49m\n\u001b[1;32m     11\u001b[0m \u001b[43m    \u001b[49m\u001b[43mn_epochs\u001b[49m\u001b[38;5;241;43m=\u001b[39;49m\u001b[43mn_epochs\u001b[49m\u001b[43m,\u001b[49m\n\u001b[1;32m     12\u001b[0m \u001b[43m    \u001b[49m\u001b[43mprint_every\u001b[49m\u001b[38;5;241;43m=\u001b[39;49m\u001b[43mprint_every\u001b[49m\u001b[43m,\u001b[49m\n\u001b[1;32m     13\u001b[0m \u001b[43m    \u001b[49m\u001b[43mplot_every\u001b[49m\u001b[38;5;241;43m=\u001b[39;49m\u001b[43mplot_every\u001b[49m\u001b[43m,\u001b[49m\n\u001b[1;32m     14\u001b[0m \u001b[43m    \u001b[49m\u001b[43msave_every\u001b[49m\u001b[38;5;241;43m=\u001b[39;49m\u001b[43msave_every\u001b[49m\u001b[43m,\u001b[49m\n\u001b[1;32m     15\u001b[0m \u001b[43m    \u001b[49m\u001b[43mprint_examples_every\u001b[49m\u001b[38;5;241;43m=\u001b[39;49m\u001b[43mprint_example_every\u001b[49m\u001b[43m)\u001b[49m\n",
      "Cell \u001b[0;32mIn[21], line 327\u001b[0m, in \u001b[0;36mmain\u001b[0;34m(root_dir, load_checkpoint, hidden_size, name, max_length, lr, weight_decay, batch_size, num_workers, n_epochs, print_every, plot_every, save_every, print_examples_every)\u001b[0m\n\u001b[1;32m    324\u001b[0m   decoder\u001b[38;5;241m.\u001b[39mload_state_dict(checkpoint[\u001b[38;5;124m'\u001b[39m\u001b[38;5;124mdecoder\u001b[39m\u001b[38;5;124m'\u001b[39m])\n\u001b[1;32m    326\u001b[0m \u001b[38;5;66;03m# Train the model\u001b[39;00m\n\u001b[0;32m--> 327\u001b[0m \u001b[43mtrain\u001b[49m\u001b[43m(\u001b[49m\u001b[43mtrain_dataloader\u001b[49m\u001b[43m,\u001b[49m\u001b[43m \u001b[49m\u001b[43mval_dataloader\u001b[49m\u001b[43m,\u001b[49m\u001b[43m \u001b[49m\u001b[43mencoder\u001b[49m\u001b[43m,\u001b[49m\u001b[43m \u001b[49m\u001b[43mdecoder\u001b[49m\u001b[43m,\u001b[49m\u001b[43m \u001b[49m\u001b[43mcriterion\u001b[49m\u001b[43m,\u001b[49m\n\u001b[1;32m    328\u001b[0m \u001b[43m      \u001b[49m\u001b[43mfeature_tokenizer\u001b[49m\u001b[38;5;241;43m.\u001b[39;49m\u001b[43mindex_word\u001b[49m\u001b[43m,\u001b[49m\u001b[43m \u001b[49m\u001b[43mEOS_token\u001b[49m\u001b[43m,\u001b[49m\u001b[43m \u001b[49m\u001b[43msave_dir\u001b[49m\u001b[43m,\u001b[49m\u001b[43m \u001b[49m\u001b[43mfigures_dir\u001b[49m\u001b[43m,\u001b[49m\n\u001b[1;32m    329\u001b[0m \u001b[43m      \u001b[49m\u001b[43mlearning_rate\u001b[49m\u001b[38;5;241;43m=\u001b[39;49m\u001b[43mlr\u001b[49m\u001b[43m,\u001b[49m\u001b[43m \u001b[49m\u001b[43mweight_decay\u001b[49m\u001b[38;5;241;43m=\u001b[39;49m\u001b[43mweight_decay\u001b[49m\u001b[43m,\u001b[49m\u001b[43m \u001b[49m\u001b[43mn_epochs\u001b[49m\u001b[38;5;241;43m=\u001b[39;49m\u001b[43mn_epochs\u001b[49m\u001b[43m,\u001b[49m\n\u001b[1;32m    330\u001b[0m \u001b[43m      \u001b[49m\u001b[43mprint_every\u001b[49m\u001b[38;5;241;43m=\u001b[39;49m\u001b[43mprint_every\u001b[49m\u001b[43m,\u001b[49m\u001b[43m \u001b[49m\u001b[43mplot_every\u001b[49m\u001b[38;5;241;43m=\u001b[39;49m\u001b[43mplot_every\u001b[49m\u001b[43m,\u001b[49m\u001b[43m \u001b[49m\u001b[43msave_every\u001b[49m\u001b[38;5;241;43m=\u001b[39;49m\u001b[43msave_every\u001b[49m\u001b[43m,\u001b[49m\u001b[43m \u001b[49m\u001b[43mprint_examples_every\u001b[49m\u001b[38;5;241;43m=\u001b[39;49m\u001b[43mprint_examples_every\u001b[49m\u001b[43m)\u001b[49m\n\u001b[1;32m    332\u001b[0m \u001b[38;5;66;03m# Load the best model\u001b[39;00m\n\u001b[1;32m    333\u001b[0m checkpoint \u001b[38;5;241m=\u001b[39m torch\u001b[38;5;241m.\u001b[39mload(os\u001b[38;5;241m.\u001b[39mpath\u001b[38;5;241m.\u001b[39mjoin(save_dir, \u001b[38;5;124m'\u001b[39m\u001b[38;5;124mbest_checkpoint.tar\u001b[39m\u001b[38;5;124m'\u001b[39m))\n",
      "Cell \u001b[0;32mIn[21], line 207\u001b[0m, in \u001b[0;36mtrain\u001b[0;34m(train_dataloader, val_dataloader, encoder, decoder, criterion, index2words, EOS_token, save_directory, figures_dir, n_epochs, learning_rate, weight_decay, print_every, plot_every, save_every, print_examples_every)\u001b[0m\n\u001b[1;32m    205\u001b[0m \u001b[38;5;28;01mif\u001b[39;00m val_loss \u001b[38;5;241m<\u001b[39m best_val_loss:\n\u001b[1;32m    206\u001b[0m     best_val_loss \u001b[38;5;241m=\u001b[39m val_loss\n\u001b[0;32m--> 207\u001b[0m     \u001b[43mtorch\u001b[49m\u001b[38;5;241;43m.\u001b[39;49m\u001b[43msave\u001b[49m\u001b[43m(\u001b[49m\u001b[43m{\u001b[49m\n\u001b[1;32m    208\u001b[0m \u001b[43m        \u001b[49m\u001b[38;5;124;43m'\u001b[39;49m\u001b[38;5;124;43mepoch\u001b[39;49m\u001b[38;5;124;43m'\u001b[39;49m\u001b[43m:\u001b[49m\u001b[43m \u001b[49m\u001b[43mepoch\u001b[49m\u001b[43m,\u001b[49m\n\u001b[1;32m    209\u001b[0m \u001b[43m        \u001b[49m\u001b[38;5;124;43m'\u001b[39;49m\u001b[38;5;124;43men\u001b[39;49m\u001b[38;5;124;43m'\u001b[39;49m\u001b[43m:\u001b[49m\u001b[43m \u001b[49m\u001b[43mencoder\u001b[49m\u001b[38;5;241;43m.\u001b[39;49m\u001b[43mstate_dict\u001b[49m\u001b[43m(\u001b[49m\u001b[43m)\u001b[49m\u001b[43m,\u001b[49m\n\u001b[1;32m    210\u001b[0m \u001b[43m        \u001b[49m\u001b[38;5;124;43m'\u001b[39;49m\u001b[38;5;124;43mde\u001b[39;49m\u001b[38;5;124;43m'\u001b[39;49m\u001b[43m:\u001b[49m\u001b[43m \u001b[49m\u001b[43mdecoder\u001b[49m\u001b[38;5;241;43m.\u001b[39;49m\u001b[43mstate_dict\u001b[49m\u001b[43m(\u001b[49m\u001b[43m)\u001b[49m\u001b[43m,\u001b[49m\n\u001b[1;32m    211\u001b[0m \u001b[43m    \u001b[49m\u001b[43m}\u001b[49m\u001b[43m,\u001b[49m\u001b[43m \u001b[49m\u001b[43mos\u001b[49m\u001b[38;5;241;43m.\u001b[39;49m\u001b[43mpath\u001b[49m\u001b[38;5;241;43m.\u001b[39;49m\u001b[43mjoin\u001b[49m\u001b[43m(\u001b[49m\u001b[43msave_directory\u001b[49m\u001b[43m,\u001b[49m\u001b[43m \u001b[49m\u001b[38;5;124;43m'\u001b[39;49m\u001b[38;5;124;43mbest_checkpoint.tar\u001b[39;49m\u001b[38;5;124;43m'\u001b[39;49m\u001b[43m)\u001b[49m\u001b[43m)\u001b[49m\n\u001b[1;32m    213\u001b[0m \u001b[38;5;66;03m# Print progress\u001b[39;00m\n\u001b[1;32m    214\u001b[0m \u001b[38;5;28;01mif\u001b[39;00m epoch \u001b[38;5;241m%\u001b[39m print_every \u001b[38;5;241m==\u001b[39m \u001b[38;5;241m0\u001b[39m:\n",
      "File \u001b[0;32m/opt/conda/lib/python3.10/site-packages/torch/serialization.py:619\u001b[0m, in \u001b[0;36msave\u001b[0;34m(obj, f, pickle_module, pickle_protocol, _use_new_zipfile_serialization, _disable_byteorder_record)\u001b[0m\n\u001b[1;32m    617\u001b[0m \u001b[38;5;28;01mif\u001b[39;00m _use_new_zipfile_serialization:\n\u001b[1;32m    618\u001b[0m     \u001b[38;5;28;01mwith\u001b[39;00m _open_zipfile_writer(f) \u001b[38;5;28;01mas\u001b[39;00m opened_zipfile:\n\u001b[0;32m--> 619\u001b[0m         \u001b[43m_save\u001b[49m\u001b[43m(\u001b[49m\u001b[43mobj\u001b[49m\u001b[43m,\u001b[49m\u001b[43m \u001b[49m\u001b[43mopened_zipfile\u001b[49m\u001b[43m,\u001b[49m\u001b[43m \u001b[49m\u001b[43mpickle_module\u001b[49m\u001b[43m,\u001b[49m\u001b[43m \u001b[49m\u001b[43mpickle_protocol\u001b[49m\u001b[43m,\u001b[49m\u001b[43m \u001b[49m\u001b[43m_disable_byteorder_record\u001b[49m\u001b[43m)\u001b[49m\n\u001b[1;32m    620\u001b[0m         \u001b[38;5;28;01mreturn\u001b[39;00m\n\u001b[1;32m    621\u001b[0m \u001b[38;5;28;01melse\u001b[39;00m:\n",
      "File \u001b[0;32m/opt/conda/lib/python3.10/site-packages/torch/serialization.py:853\u001b[0m, in \u001b[0;36m_save\u001b[0;34m(obj, zip_file, pickle_module, pickle_protocol, _disable_byteorder_record)\u001b[0m\n\u001b[1;32m    851\u001b[0m \u001b[38;5;66;03m# Now that it is on the CPU we can directly copy it into the zip file\u001b[39;00m\n\u001b[1;32m    852\u001b[0m num_bytes \u001b[38;5;241m=\u001b[39m storage\u001b[38;5;241m.\u001b[39mnbytes()\n\u001b[0;32m--> 853\u001b[0m \u001b[43mzip_file\u001b[49m\u001b[38;5;241;43m.\u001b[39;49m\u001b[43mwrite_record\u001b[49m\u001b[43m(\u001b[49m\u001b[43mname\u001b[49m\u001b[43m,\u001b[49m\u001b[43m \u001b[49m\u001b[43mstorage\u001b[49m\u001b[38;5;241;43m.\u001b[39;49m\u001b[43mdata_ptr\u001b[49m\u001b[43m(\u001b[49m\u001b[43m)\u001b[49m\u001b[43m,\u001b[49m\u001b[43m \u001b[49m\u001b[43mnum_bytes\u001b[49m\u001b[43m)\u001b[49m\n",
      "\u001b[0;31mKeyboardInterrupt\u001b[0m: "
     ]
    }
   ],
   "source": [
    "main(\n",
    "    root_dir = root_dir,\n",
    "    load_checkpoint = load_checkpoint,\n",
    "    hidden_size=hidden_size,\n",
    "    name=name,\n",
    "    max_length=max_length,\n",
    "    lr=lr,\n",
    "    weight_decay=weight_decay,\n",
    "    batch_size=batch_size,\n",
    "    num_workers=num_workers,\n",
    "    n_epochs=n_epochs,\n",
    "    print_every=print_every,\n",
    "    plot_every=plot_every,\n",
    "    save_every=save_every,\n",
    "    print_examples_every=print_example_every)"
   ]
  }
 ],
 "metadata": {
  "accelerator": "GPU",
  "colab": {
   "gpuType": "T4",
   "provenance": []
  },
  "kernelspec": {
   "display_name": "Python 3 (ipykernel)",
   "language": "python",
   "name": "python3"
  },
  "language_info": {
   "codemirror_mode": {
    "name": "ipython",
    "version": 3
   },
   "file_extension": ".py",
   "mimetype": "text/x-python",
   "name": "python",
   "nbconvert_exporter": "python",
   "pygments_lexer": "ipython3",
   "version": "3.10.13"
  }
 },
 "nbformat": 4,
 "nbformat_minor": 5
}
