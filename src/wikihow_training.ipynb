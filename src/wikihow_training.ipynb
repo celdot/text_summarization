{
 "cells": [
  {
   "cell_type": "markdown",
   "id": "c011300a",
   "metadata": {
    "id": "c011300a"
   },
   "source": [
    "## Import libraries"
   ]
  },
  {
   "cell_type": "code",
   "execution_count": 1,
   "id": "55a34a55-1620-4286-8065-84212a6aff18",
   "metadata": {},
   "outputs": [
    {
     "name": "stdout",
     "output_type": "stream",
     "text": [
      "Requirement already satisfied: pytorch-ignite in /opt/conda/lib/python3.10/site-packages (0.5.2)\n",
      "Requirement already satisfied: torch<3,>=1.3 in /opt/conda/lib/python3.10/site-packages (from pytorch-ignite) (2.1.2)\n",
      "Requirement already satisfied: packaging in /opt/conda/lib/python3.10/site-packages (from pytorch-ignite) (23.2)\n",
      "Requirement already satisfied: filelock in /opt/conda/lib/python3.10/site-packages (from torch<3,>=1.3->pytorch-ignite) (3.13.1)\n",
      "Requirement already satisfied: typing-extensions in /opt/conda/lib/python3.10/site-packages (from torch<3,>=1.3->pytorch-ignite) (4.9.0)\n",
      "Requirement already satisfied: sympy in /opt/conda/lib/python3.10/site-packages (from torch<3,>=1.3->pytorch-ignite) (1.12)\n",
      "Requirement already satisfied: networkx in /opt/conda/lib/python3.10/site-packages (from torch<3,>=1.3->pytorch-ignite) (3.2.1)\n",
      "Requirement already satisfied: jinja2 in /opt/conda/lib/python3.10/site-packages (from torch<3,>=1.3->pytorch-ignite) (3.1.3)\n",
      "Requirement already satisfied: fsspec in /opt/conda/lib/python3.10/site-packages (from torch<3,>=1.3->pytorch-ignite) (2023.10.0)\n",
      "Requirement already satisfied: nvidia-cuda-nvrtc-cu12==12.1.105 in /opt/conda/lib/python3.10/site-packages (from torch<3,>=1.3->pytorch-ignite) (12.1.105)\n",
      "Requirement already satisfied: nvidia-cuda-runtime-cu12==12.1.105 in /opt/conda/lib/python3.10/site-packages (from torch<3,>=1.3->pytorch-ignite) (12.1.105)\n",
      "Requirement already satisfied: nvidia-cuda-cupti-cu12==12.1.105 in /opt/conda/lib/python3.10/site-packages (from torch<3,>=1.3->pytorch-ignite) (12.1.105)\n",
      "Requirement already satisfied: nvidia-cudnn-cu12==8.9.2.26 in /opt/conda/lib/python3.10/site-packages (from torch<3,>=1.3->pytorch-ignite) (8.9.2.26)\n",
      "Requirement already satisfied: nvidia-cublas-cu12==12.1.3.1 in /opt/conda/lib/python3.10/site-packages (from torch<3,>=1.3->pytorch-ignite) (12.1.3.1)\n",
      "Requirement already satisfied: nvidia-cufft-cu12==11.0.2.54 in /opt/conda/lib/python3.10/site-packages (from torch<3,>=1.3->pytorch-ignite) (11.0.2.54)\n",
      "Requirement already satisfied: nvidia-curand-cu12==10.3.2.106 in /opt/conda/lib/python3.10/site-packages (from torch<3,>=1.3->pytorch-ignite) (10.3.2.106)\n",
      "Requirement already satisfied: nvidia-cusolver-cu12==11.4.5.107 in /opt/conda/lib/python3.10/site-packages (from torch<3,>=1.3->pytorch-ignite) (11.4.5.107)\n",
      "Requirement already satisfied: nvidia-cusparse-cu12==12.1.0.106 in /opt/conda/lib/python3.10/site-packages (from torch<3,>=1.3->pytorch-ignite) (12.1.0.106)\n",
      "Requirement already satisfied: nvidia-nccl-cu12==2.18.1 in /opt/conda/lib/python3.10/site-packages (from torch<3,>=1.3->pytorch-ignite) (2.18.1)\n",
      "Requirement already satisfied: nvidia-nvtx-cu12==12.1.105 in /opt/conda/lib/python3.10/site-packages (from torch<3,>=1.3->pytorch-ignite) (12.1.105)\n",
      "Requirement already satisfied: triton==2.1.0 in /opt/conda/lib/python3.10/site-packages (from torch<3,>=1.3->pytorch-ignite) (2.1.0)\n",
      "Requirement already satisfied: nvidia-nvjitlink-cu12 in /opt/conda/lib/python3.10/site-packages (from nvidia-cusolver-cu12==11.4.5.107->torch<3,>=1.3->pytorch-ignite) (12.3.101)\n",
      "Requirement already satisfied: MarkupSafe>=2.0 in /opt/conda/lib/python3.10/site-packages (from jinja2->torch<3,>=1.3->pytorch-ignite) (2.1.4)\n",
      "Requirement already satisfied: mpmath>=0.19 in /opt/conda/lib/python3.10/site-packages (from sympy->torch<3,>=1.3->pytorch-ignite) (1.3.0)\n",
      "Requirement already satisfied: torcheval in /opt/conda/lib/python3.10/site-packages (0.0.7)\n",
      "Requirement already satisfied: typing-extensions in /opt/conda/lib/python3.10/site-packages (from torcheval) (4.9.0)\n",
      "Requirement already satisfied: optuna in /opt/conda/lib/python3.10/site-packages (4.3.0)\n",
      "Requirement already satisfied: alembic>=1.5.0 in /opt/conda/lib/python3.10/site-packages (from optuna) (1.13.1)\n",
      "Requirement already satisfied: colorlog in /opt/conda/lib/python3.10/site-packages (from optuna) (6.9.0)\n",
      "Requirement already satisfied: numpy in /opt/conda/lib/python3.10/site-packages (from optuna) (1.24.4)\n",
      "Requirement already satisfied: packaging>=20.0 in /opt/conda/lib/python3.10/site-packages (from optuna) (23.2)\n",
      "Requirement already satisfied: sqlalchemy>=1.4.2 in /opt/conda/lib/python3.10/site-packages (from optuna) (2.0.25)\n",
      "Requirement already satisfied: tqdm in /opt/conda/lib/python3.10/site-packages (from optuna) (4.66.1)\n",
      "Requirement already satisfied: PyYAML in /opt/conda/lib/python3.10/site-packages (from optuna) (6.0.1)\n",
      "Requirement already satisfied: Mako in /opt/conda/lib/python3.10/site-packages (from alembic>=1.5.0->optuna) (1.3.1)\n",
      "Requirement already satisfied: typing-extensions>=4 in /opt/conda/lib/python3.10/site-packages (from alembic>=1.5.0->optuna) (4.9.0)\n",
      "Requirement already satisfied: greenlet!=0.4.17 in /opt/conda/lib/python3.10/site-packages (from sqlalchemy>=1.4.2->optuna) (3.0.3)\n",
      "Requirement already satisfied: MarkupSafe>=0.9.2 in /opt/conda/lib/python3.10/site-packages (from Mako->alembic>=1.5.0->optuna) (2.1.4)\n"
     ]
    }
   ],
   "source": [
    "!pip install pytorch-ignite\n",
    "!pip install torcheval\n",
    "!pip install optuna"
   ]
  },
  {
   "cell_type": "code",
   "execution_count": 2,
   "id": "dird0uRs9vR5",
   "metadata": {
    "id": "dird0uRs9vR5"
   },
   "outputs": [],
   "source": [
    "COLAB = False"
   ]
  },
  {
   "cell_type": "code",
   "execution_count": 3,
   "id": "IVvWsDoq9w3y",
   "metadata": {
    "colab": {
     "base_uri": "https://localhost:8080/",
     "height": 53
    },
    "executionInfo": {
     "elapsed": 1059,
     "status": "ok",
     "timestamp": 1748290425504,
     "user": {
      "displayName": "IN FP",
      "userId": "08561517695641011702"
     },
     "user_tz": -120
    },
    "id": "IVvWsDoq9w3y",
    "outputId": "5a12b7f2-71cc-4235-c87c-76af65d0219f"
   },
   "outputs": [],
   "source": [
    "if COLAB:\n",
    "    import sys\n",
    "    import os\n",
    "    from google.colab import drive\n",
    "\n",
    "    # Mount Google Driveroo\n",
    "    drive.mount('/content/drive')\n",
    "\n",
    "    # Add the path to the Python module\n",
    "    root_dir = '/content/drive/MyDrive/text_summarization'\n",
    "    sys.path.append(os.path.join(root_dir, 'src'))\n",
    "    sys.path.append(os.path.join(root_dir, 'src', 'utils'))\n",
    "else:\n",
    "    from pathlib import Path\n",
    "    root_dir = Path.cwd().parent"
   ]
  },
  {
   "cell_type": "code",
   "execution_count": 4,
   "id": "c378699a",
   "metadata": {
    "colab": {
     "base_uri": "https://localhost:8080/"
    },
    "executionInfo": {
     "elapsed": 1932,
     "status": "ok",
     "timestamp": 1748290427445,
     "user": {
      "displayName": "IN FP",
      "userId": "08561517695641011702"
     },
     "user_tz": -120
    },
    "id": "c378699a",
    "outputId": "e626591d-073b-4109-bd8e-f7bdf8f08db0"
   },
   "outputs": [],
   "source": [
    "import os"
   ]
  },
  {
   "cell_type": "code",
   "execution_count": 5,
   "id": "95a219a2",
   "metadata": {
    "id": "95a219a2"
   },
   "outputs": [
    {
     "name": "stderr",
     "output_type": "stream",
     "text": [
      "/opt/conda/lib/python3.10/site-packages/transformers/utils/hub.py:124: FutureWarning: Using `TRANSFORMERS_CACHE` is deprecated and will be removed in v5 of Transformers. Use `HF_HOME` instead.\n",
      "  warnings.warn(\n"
     ]
    }
   ],
   "source": [
    "from train_model import main"
   ]
  },
  {
   "cell_type": "code",
   "execution_count": 6,
   "id": "3b8b3c11",
   "metadata": {
    "id": "3b8b3c11"
   },
   "outputs": [],
   "source": [
    "name = \"WikiHow\"\n",
    "legacy = False"
   ]
  },
  {
   "cell_type": "code",
   "execution_count": 7,
   "id": "dddaa8e0",
   "metadata": {
    "id": "dddaa8e0"
   },
   "outputs": [],
   "source": [
    "\n",
    "raw_dir = os.path.join(root_dir, \"raw_data\", name)\n",
    "if legacy:\n",
    "    dataset_dir = os.path.join(root_dir, \"data\", name)\n",
    "    figures_dir = os.path.join(root_dir, \"figures\", name)\n",
    "    os.makedirs(dataset_dir, exist_ok=True)\n",
    "    os.makedirs(figures_dir, exist_ok=True)\n",
    "else:\n",
    "    dataset_dir = os.path.join(root_dir, \"data_packed\", name)\n",
    "    figures_dir = os.path.join(root_dir, \"figures_packed\", name)\n",
    "    os.makedirs(dataset_dir, exist_ok=True)\n",
    "    os.makedirs(figures_dir, exist_ok=True)"
   ]
  },
  {
   "cell_type": "markdown",
   "id": "17b32c9d",
   "metadata": {
    "id": "17b32c9d"
   },
   "source": [
    "## Train the model"
   ]
  },
  {
   "cell_type": "code",
   "execution_count": 12,
   "id": "db7f42f2",
   "metadata": {
    "id": "db7f42f2"
   },
   "outputs": [],
   "source": [
    "hidden_size = 128\n",
    "max_length = 100\n",
    "lr = 0.001\n",
    "weight_decay = 1e-6\n",
    "batch_size = 8\n",
    "num_workers = 2\n",
    "n_epochs = 3\n",
    "print_example_every = 29408 # 10_000\n",
    "log_every = 29408# 1500\n",
    "load_checkpoint = False\n",
    "early_stopping_patience = 5\n",
    "hyp_tuning = False\n",
    "\n",
    "optimizer_hyperparams = {\n",
    "    'learning_rate': lr,\n",
    "    'weight_decay': weight_decay,\n",
    "    'n_epochs': n_epochs,\n",
    "    'batch_size': batch_size,\n",
    "    'num_workers': num_workers,\n",
    "    'early_stopping_patience': early_stopping_patience\n",
    "}\n",
    "\n",
    "model_hyperparams = {\n",
    "    'hidden_size': hidden_size,\n",
    "    'max_length': max_length\n",
    "}"
   ]
  },
  {
   "cell_type": "code",
   "execution_count": 13,
   "id": "7bde23ac",
   "metadata": {
    "colab": {
     "base_uri": "https://localhost:8080/",
     "height": 561
    },
    "executionInfo": {
     "elapsed": 977047,
     "status": "error",
     "timestamp": 1748294670175,
     "user": {
      "displayName": "IN FP",
      "userId": "08561517695641011702"
     },
     "user_tz": -120
    },
    "id": "7bde23ac",
    "outputId": "b5ef08c6-afff-40e7-a72c-49936dcaf55f"
   },
   "outputs": [
    {
     "name": "stdout",
     "output_type": "stream",
     "text": [
      "cuda\n",
      "Loading tokenizer\n"
     ]
    },
    {
     "name": "stderr",
     "output_type": "stream",
     "text": [
      " 50%|████▉     | 29408/58817 [1:10:06<1:36:40,  5.07it/s]"
     ]
    },
    {
     "name": "stdout",
     "output_type": "stream",
     "text": [
      "Evaluating loss: 99.99%[Iter 29408] Train loss: 4.6981, Val loss: 4.3086\n",
      "Evaluating model: 99.99%-----------------------------------\n",
      "BLEU score: 0.0000\n",
      "Rouge-L-F score: 0.1111\n",
      "Rouge-1-F score: 0.1111\n",
      "Rouge-2-F score: 0.0588\n",
      "-----------------------------------\n",
      "-----------------------------------\n",
      "BLEU score: 0.0000\n",
      "Rouge-L-F score: 0.1111\n",
      "Rouge-1-F score: 0.1111\n",
      "Rouge-2-F score: 0.0588\n",
      "-----------------------------------\n",
      "-----------------------------------\n",
      "BLEU score: 0.0000\n",
      "Rouge-L-F score: 0.1111\n",
      "Rouge-1-F score: 0.1111\n",
      "Rouge-2-F score: 0.0588\n",
      "-----------------------------------\n",
      "-----------------------------------\n",
      "BLEU score: 0.0000\n",
      "Rouge-L-F score: 0.1111\n",
      "Rouge-1-F score: 0.1111\n",
      "Rouge-2-F score: 0.0588\n",
      "-----------------------------------\n",
      "Input: SOS when sizing a western saddle you should be able to stand up in the stirrups and have 2 inches 508 cm to 4 inches 1016 cm between your bottom and the seat of the saddle stirrups can be adjusted but you dont want extra leather hanging loose EOS\n",
      "Target: SOS place your feet in the stirrups EOS\n",
      "Predicted: SOS choose a suitable place to make a second line EOS\n",
      "-----------------------------------\n",
      "Input: SOS also buy some dried seaweed also known as nori and uncooked rice EOS\n",
      "Target: SOS select 2 types of veggies cucumbers and carrots and a fish for instance artificial cooked crab EOS\n",
      "Predicted: SOS add the ingredients EOS\n",
      "-----------------------------------\n",
      "Input: SOS wash two pounds of fresh strawberries remove the stems and cut the strawberries in half if your strawberries are frozen allow to thaw before slicing in half it is possible that using frozen strawberries in this method may alter the taste a little so try to use fresh strawberries if you can EOS\n",
      "Target: SOS prepare your strawberries EOS\n",
      "Predicted: SOS add the ingredients EOS\n",
      "-----------------------------------\n",
      "Input: SOS this is a good start for keeping nice and clean during the school day if you want take a shower it will make you smell and feel better throughout the whole day EOS\n",
      "Target: SOS go straight to the bathroom and brush your teeth and wash your face EOS\n",
      "Predicted: SOS keep your cat EOS\n",
      "-----------------------------------\n"
     ]
    },
    {
     "name": "stderr",
     "output_type": "stream",
     "text": [
      " 50%|█████     | 29410/58817 [2:13:55<6569:57:09, 804.29s/it] "
     ]
    },
    {
     "name": "stdout",
     "output_type": "stream",
     "text": [
      "Input: SOS mixtures of worcestershire brown sugar horseradish ketchup soy sauce and even hoisin can be delicious when added to ground beefif you want to mix up a wet rub or a sauce to brush onto the burgers just before they hit the heat it can be an excellent way of caramelizing and creating a delicious crust working in wet mixtures is less recommended but still possible it can be a good way of overhandling the beef and breaking down the proteins but gently massaging some worcestershire in shouldnt be too much of a problem EOS\n",
      "Target: SOS brush marinade or wet rub on the outside of the burgers before cooking EOS\n",
      "Predicted: SOS add the ingredients EOS\n",
      "-----------------------------------\n"
     ]
    },
    {
     "name": "stderr",
     "output_type": "stream",
     "text": [
      "100%|█████████▉| 58816/58817 [3:32:20<00:00,  8.22it/s]      "
     ]
    },
    {
     "name": "stdout",
     "output_type": "stream",
     "text": [
      "Evaluating loss: 99.99%[Iter 58816] Train loss: 4.4471, Val loss: 4.0989\n",
      "Evaluating model: 99.99%-----------------------------------\n",
      "BLEU score: 0.0000\n",
      "Rouge-L-F score: 0.0566\n",
      "Rouge-1-F score: 0.0811\n",
      "Rouge-2-F score: 0.0364\n",
      "-----------------------------------\n",
      "-----------------------------------\n",
      "BLEU score: 0.0000\n",
      "Rouge-L-F score: 0.0566\n",
      "Rouge-1-F score: 0.0811\n",
      "Rouge-2-F score: 0.0364\n",
      "-----------------------------------\n",
      "-----------------------------------\n",
      "BLEU score: 0.0000\n",
      "Rouge-L-F score: 0.0566\n",
      "Rouge-1-F score: 0.0811\n",
      "Rouge-2-F score: 0.0364\n",
      "-----------------------------------\n",
      "-----------------------------------\n",
      "BLEU score: 0.0000\n",
      "Rouge-L-F score: 0.0566\n",
      "Rouge-1-F score: 0.0811\n",
      "Rouge-2-F score: 0.0364\n",
      "-----------------------------------\n",
      "Input: SOS for those who wish to express their individualism and own a statement ring that will become a family heirloom custom is the only way to go many big jewelry houses scorn custom work if you dont like one of their limited design choices then you have too much imagination custommade rings allow you to work with the designer to create the ultimate reflection of your tastes the build your own ring online tools are a fun gimmick but far from the true custom craftsmanship associated with a quality ring work with a knowledgeable personal jeweler who can guide you in the process EOS\n",
      "Target: SOS consider custom rings for a oneofakind heirloom piece EOS\n",
      "Predicted: SOS consider your own design EOS\n",
      "-----------------------------------\n",
      "Input: SOS dispose of the used needle in a sharp disposal box as soon as possible EOS\n",
      "Target: SOS place the cover back over the used needle EOS\n",
      "Predicted: SOS remove the plastic EOS\n",
      "-----------------------------------\n",
      "Input: SOS take out of microwave stir and set aside EOS\n",
      "Target: SOS place in the microwave for one and a half minutes until porridge is cooked EOS\n",
      "Predicted: SOS add the butter and sugar EOS\n",
      "-----------------------------------\n",
      "Input: SOS in addition to passing the bar exam you also need to pass a character and fitness review this requires filling out a detailed survey on your background common problems with character and fitness include criminal convictions financial irresponsibility such as bankruptcy and accusations of plagiarism these may not completely block you from admission but be prepared to discuss them with the character and fitness committee always be honest when filling out the background survey often the attempt to hide something is worse than the offense in the first place EOS\n",
      "Target: SOS fill out the background survey EOS\n",
      "Predicted: SOS complete the necessary information EOS\n",
      "-----------------------------------\n"
     ]
    },
    {
     "name": "stderr",
     "output_type": "stream",
     "text": [
      "100%|██████████| 58817/58817 [4:27:17<00:00,  3.67it/s] \n"
     ]
    },
    {
     "name": "stdout",
     "output_type": "stream",
     "text": [
      "Input: SOS to help you more accurately cut out calories start measuring your portions this will help you stay on track and be more aware of how much youre eating to help manage your total calories use a food scale or measuring cups to track portion sizes protein foods should be portioned at a 12 cup or 4 oz which is about the size of your palm fruits should be portioned to 12 cup or 1 small piece vegetables should be 1 cup chopped or 2 cups of leafy greens and grains such as oats rice and quinoa should be measured to 12 cup or 2 oz per serving try to not to estimate portion sizes you may be wrong and have a bigger chance for inaccuracies EOS\n",
      "Target: SOS measure your portions EOS\n",
      "Predicted: SOS choose a calorie EOS\n",
      "-----------------------------------\n"
     ]
    },
    {
     "name": "stderr",
     "output_type": "stream",
     "text": [
      " 50%|████▉     | 29408/58817 [1:06:08<58:33,  8.37it/s]  "
     ]
    },
    {
     "name": "stdout",
     "output_type": "stream",
     "text": [
      "Evaluating loss: 99.99%[Iter 29408] Train loss: 4.0026, Val loss: 4.0027\n",
      "Evaluating model: 99.99%-----------------------------------\n",
      "BLEU score: 0.0000\n",
      "Rouge-L-F score: 0.0741\n",
      "Rouge-1-F score: 0.0741\n",
      "Rouge-2-F score: 0.0563\n",
      "-----------------------------------\n",
      "-----------------------------------\n",
      "BLEU score: 0.0000\n",
      "Rouge-L-F score: 0.0741\n",
      "Rouge-1-F score: 0.0741\n",
      "Rouge-2-F score: 0.0563\n",
      "-----------------------------------\n",
      "-----------------------------------\n",
      "BLEU score: 0.0000\n",
      "Rouge-L-F score: 0.0741\n",
      "Rouge-1-F score: 0.0741\n",
      "Rouge-2-F score: 0.0563\n",
      "-----------------------------------\n",
      "-----------------------------------\n",
      "BLEU score: 0.0000\n",
      "Rouge-L-F score: 0.0741\n",
      "Rouge-1-F score: 0.0741\n",
      "Rouge-2-F score: 0.0563\n",
      "-----------------------------------\n",
      "Input: SOS how much you measure depends on a couple of factors including the type of coffee how much coffee youd like to brew and how strong you like your coffee consider the following 2 tablespoons for 6 ounces of water one cup of coffee 3 tablespoons for 9 ounces of water a large cup of coffee use more or less if youd like your coffee weaker or stronger EOS\n",
      "Target: SOS measure your coffee out EOS\n",
      "Predicted: SOS cut the coffee coffee EOS\n",
      "-----------------------------------\n",
      "Input: SOS if you would like repeat the application of the eyeliner until you achieve the desired look for a thicker more dramatic look repeat the application of the eye pencil until you are satisfied with the results for a lighter more natural look stick with a light application and do not add many more layers EOS\n",
      "Target: SOS reapply as desired EOS\n",
      "Predicted: SOS apply the eyeliner EOS\n",
      "-----------------------------------\n",
      "Input: SOS it is preferable to choose a friend outside of your work life to discuss your bullying boss situation this person can help you clarify your thoughts and figure out if you and your boss have a personality conflict or whether true bullying is taking place find a time when you and a close friend can meet in person say something like i have a situation at work that i need your opinion on i think my boss may be bullying me but i want to see what you think then give your friend several examples of what you consider to be your bosss problem behavior listen carefully and with an open mind to your friends opinions perhaps you are a little sensitive if so your friend will be able to help you figure out whether you are being bullied or whether you just have thin skin your friend may also be helpful in offering suggestions on how to deal with your boss EOS\n",
      "Target: SOS seek out a confidant EOS\n",
      "Predicted: SOS meet with a friend EOS\n",
      "-----------------------------------\n",
      "Input: SOS before you can determine your stance youll need to take a close look at what the argument is really about at this point examine the fight from an outsiders point of view try not to get bogged down by either sides explanation yet dont base your decision because of your feelings youll need strong proof to make the right choiceconsider that one of your siblings is accusing the other of taking their new cd if the other sibling sincerely doesnt seem to have the cd and a cursory search through their room did not uncover it theres a chance this could be a misunderstanding maybe you can simply use your energy to help your sibling look through their own room or other parts of the house for the cd EOS\n",
      "Target: SOS look at the evidence EOS\n",
      "Predicted: SOS get a good idea EOS\n",
      "-----------------------------------\n"
     ]
    },
    {
     "name": "stderr",
     "output_type": "stream",
     "text": [
      " 50%|█████     | 29410/58817 [2:01:02<5631:36:04, 689.42s/it]"
     ]
    },
    {
     "name": "stdout",
     "output_type": "stream",
     "text": [
      "Input: SOS the files will automatically be compressed as they are transferred into the new folder EOS\n",
      "Target: SOS move or copy all of your selected files into the compressed folder EOS\n",
      "Predicted: SOS click the file EOS\n",
      "-----------------------------------\n"
     ]
    },
    {
     "name": "stderr",
     "output_type": "stream",
     "text": [
      "100%|█████████▉| 58816/58817 [3:07:59<00:00,  7.69it/s]      "
     ]
    },
    {
     "name": "stdout",
     "output_type": "stream",
     "text": [
      "Evaluating loss: 99.99%[Iter 58816] Train loss: 3.9812, Val loss: 3.9474\n",
      "Evaluating model: 99.99%-----------------------------------\n",
      "BLEU score: 0.0000\n",
      "Rouge-L-F score: 0.1087\n",
      "Rouge-1-F score: 0.1304\n",
      "Rouge-2-F score: 0.0638\n",
      "-----------------------------------\n",
      "-----------------------------------\n",
      "BLEU score: 0.0000\n",
      "Rouge-L-F score: 0.1087\n",
      "Rouge-1-F score: 0.1304\n",
      "Rouge-2-F score: 0.0638\n",
      "-----------------------------------\n",
      "-----------------------------------\n",
      "BLEU score: 0.0000\n",
      "Rouge-L-F score: 0.1087\n",
      "Rouge-1-F score: 0.1304\n",
      "Rouge-2-F score: 0.0638\n",
      "-----------------------------------\n",
      "-----------------------------------\n",
      "BLEU score: 0.0000\n",
      "Rouge-L-F score: 0.1087\n",
      "Rouge-1-F score: 0.1304\n",
      "Rouge-2-F score: 0.0638\n",
      "-----------------------------------\n",
      "Input: SOS remember that your opponent can also target your own pressure points pay close attention and dont let your attackers hands get anywhere near your face and neck EOS\n",
      "Target: SOS protect your own vulnerable areas EOS\n",
      "Predicted: SOS dont be afraid to be a good EOS\n",
      "-----------------------------------\n",
      "Input: SOS lots of schools offer a weightlifting class club or team or there may be one designed specifically for teens and young adults at your local gym or ymca this can be a great way to get some encouragement training and always have a spotter on hand EOS\n",
      "Target: SOS join a class or team EOS\n",
      "Predicted: SOS find a class EOS\n",
      "-----------------------------------\n",
      "Input: SOS before cutting into the material its a good idea to create a test pattern out of drafting paper or recycled paper bag material fold the paper in half and lay the coat pattern piece on top so that the back length line sits directly on the fold of the paper trace around the perimeter of the pattern then cut out the double layer of paper leaving the fold intact unfold the paper only after cutting it out open the remaining paper and trace two stomach strap rectangles onto the single layer cut these rectangles out you should have three pieces two stomach straps and a full coat body EOS\n",
      "Target: SOS trace the pattern onto excess paper EOS\n",
      "Predicted: SOS cut the paper EOS\n",
      "-----------------------------------\n",
      "Input: SOS place the nuts dried fruit flour spices and baking powder in a mixing bowl and stir until combined add the date and banana puree as well as the rum stir until the mixture has the consistency of batter EOS\n",
      "Target: SOS mix up the batter EOS\n",
      "Predicted: SOS add the ingredients EOS\n",
      "-----------------------------------\n"
     ]
    },
    {
     "name": "stderr",
     "output_type": "stream",
     "text": [
      "100%|██████████| 58817/58817 [4:03:34<00:00,  4.02it/s] \n"
     ]
    },
    {
     "name": "stdout",
     "output_type": "stream",
     "text": [
      "Input: SOS lay it out on a flat surface and moisten it with a damp cloth EOS\n",
      "Target: SOS prepare a sheet of plastic film about the size of your nori sheet EOS\n",
      "Predicted: SOS place the surface of the dry area EOS\n",
      "-----------------------------------\n"
     ]
    },
    {
     "name": "stderr",
     "output_type": "stream",
     "text": [
      " 50%|████▉     | 29408/58817 [1:06:41<1:11:48,  6.83it/s]"
     ]
    },
    {
     "name": "stdout",
     "output_type": "stream",
     "text": [
      "Evaluating loss: 99.99%[Iter 29408] Train loss: 3.8462, Val loss: 3.9146\n",
      "Evaluating model: 99.99%-----------------------------------\n",
      "BLEU score: 0.0000\n",
      "Rouge-L-F score: 0.0943\n",
      "Rouge-1-F score: 0.0943\n",
      "Rouge-2-F score: 0.0741\n",
      "-----------------------------------\n",
      "-----------------------------------\n",
      "BLEU score: 0.0000\n",
      "Rouge-L-F score: 0.0943\n",
      "Rouge-1-F score: 0.0943\n",
      "Rouge-2-F score: 0.0741\n",
      "-----------------------------------\n",
      "-----------------------------------\n",
      "BLEU score: 0.0000\n",
      "Rouge-L-F score: 0.0943\n",
      "Rouge-1-F score: 0.0943\n",
      "Rouge-2-F score: 0.0741\n",
      "-----------------------------------\n",
      "-----------------------------------\n",
      "BLEU score: 0.0000\n",
      "Rouge-L-F score: 0.0943\n",
      "Rouge-1-F score: 0.0943\n",
      "Rouge-2-F score: 0.0741\n",
      "-----------------------------------\n",
      "Input: SOS you should use about 14 of a cup of black pepper but you can use more or less depending on taste stir all the ingredients together using a mixing spoon until everything is mixed evenly EOS\n",
      "Target: SOS stir in the olives lemon peel garlic powder and black pepper EOS\n",
      "Predicted: SOS sprinkle the ingredients together EOS\n",
      "-----------------------------------\n",
      "Input: SOS being a repo man is a tough job that requires you to have a range of skills and qualities to deal with the situations you may find yourself in a good repo man must have excellent people skills you will have to deal with angry and potentially aggressive people you may have to repossess something from someone who is physically intimidating so you need to be confident but able to keep your cool in difficult moments it helps if you are a good problem solver and can organise your work and time well being a repo man also involves some investigative work to track down property and people as well as dealing with people whose property you are repossessing you will also deal with attorneys so its important to have a professional manner EOS\n",
      "Target: SOS determine the skills and qualities required EOS\n",
      "Predicted: SOS be persistent EOS\n",
      "-----------------------------------\n",
      "Input: SOS the tree wont have a lot of space to spread its roots so its best to choose either a small variety of tree or one that you can contain by pruning some good choices for container planting include olive and bay trees japanese maple acer and fruit trees such as apple or orange EOS\n",
      "Target: SOS pick a manageable tree EOS\n",
      "Predicted: SOS choose a tree tree EOS\n",
      "-----------------------------------\n",
      "Input: SOS the retailer should be able to provide a clear price for the product you are purchasing including shipping the retailer should also be able to tell you what exactly you will get in return avoid for example online deals that promise a chance to win something if you make repeated subscription payments EOS\n",
      "Target: SOS avoid purchases with unclear terms and conditions EOS\n",
      "Predicted: SOS check the cost of the manufacturer EOS\n",
      "-----------------------------------\n"
     ]
    },
    {
     "name": "stderr",
     "output_type": "stream",
     "text": [
      " 50%|█████     | 29410/58817 [2:01:55<5597:29:07, 685.24s/it]"
     ]
    },
    {
     "name": "stdout",
     "output_type": "stream",
     "text": [
      "Input: SOS make sure that all of your tools have a threepronged plug and inspect all equipment for signs of damage it is also important to turn off power tools before connecting them to electricity always keep power tools away from water and clear the work area of flammable gasses vapors and solvents when tools are in use EOS\n",
      "Target: SOS exercise caution when operating power tools EOS\n",
      "Predicted: SOS remove your tools EOS\n",
      "-----------------------------------\n"
     ]
    },
    {
     "name": "stderr",
     "output_type": "stream",
     "text": [
      "100%|█████████▉| 58816/58817 [3:07:58<00:00,  7.60it/s]      "
     ]
    },
    {
     "name": "stdout",
     "output_type": "stream",
     "text": [
      "Evaluating loss: 99.99%[Iter 58816] Train loss: 3.8516, Val loss: 3.8867\n",
      "Evaluating model: 99.99%-----------------------------------\n",
      "BLEU score: 0.0000\n",
      "Rouge-L-F score: 0.1053\n",
      "Rouge-1-F score: 0.1053\n",
      "Rouge-2-F score: 0.0588\n",
      "-----------------------------------\n",
      "-----------------------------------\n",
      "BLEU score: 0.0000\n",
      "Rouge-L-F score: 0.1053\n",
      "Rouge-1-F score: 0.1053\n",
      "Rouge-2-F score: 0.0588\n",
      "-----------------------------------\n",
      "-----------------------------------\n",
      "BLEU score: 0.0000\n",
      "Rouge-L-F score: 0.1053\n",
      "Rouge-1-F score: 0.1053\n",
      "Rouge-2-F score: 0.0588\n",
      "-----------------------------------\n",
      "-----------------------------------\n",
      "BLEU score: 0.0000\n",
      "Rouge-L-F score: 0.1053\n",
      "Rouge-1-F score: 0.1053\n",
      "Rouge-2-F score: 0.0588\n",
      "-----------------------------------\n",
      "Input: SOS if you already have a poem in mind feel free to use it if you arent sure do your research flip open a book of poetry and find something suitable ask for a recommendation from a friend or teacher or visit UNK to look for poems online this article will explicate walt whitmans work a noiseless patient spider for the sake of UNK something short for your first explication this is not to say that you cant work through a longer poem but it will be much quicker if you choose a piece that spans just a few stanzas look for a poem that captures your imagination the process of explication may be more rewarding if you feel strongly about the poem EOS\n",
      "Target: SOS choose a poem EOS\n",
      "Predicted: SOS find a poem EOS\n",
      "-----------------------------------\n",
      "Input: SOS the host will need to be prepared to manage all of the images EOS\n",
      "Target: SOS ask them to send the host an image of the gift they are contributing to the party EOS\n",
      "Predicted: SOS choose a good location EOS\n",
      "-----------------------------------\n",
      "Input: SOS disconnect them EOS\n",
      "Target: SOS locate any and all coolant or oil lines that are connected to the turbo EOS\n",
      "Predicted: SOS click the save button EOS\n",
      "-----------------------------------\n",
      "Input: SOS when the tops of the carrots reach two inches high thin the carrots to one inch apart by pulling the small carrot plants out of the ground this reduces crowding and allows the individual carrots enough room to grow and expand their roots after another two weeks passes and the carrot tops have grown several inches high thin the plants again to three to four inches apart be sure not to skip this step as crowded carrots will not grow straight and may not develop fully EOS\n",
      "Target: SOS thin the carrots EOS\n",
      "Predicted: SOS cut the carrots in half EOS\n",
      "-----------------------------------\n"
     ]
    },
    {
     "name": "stderr",
     "output_type": "stream",
     "text": [
      "100%|██████████| 58817/58817 [4:02:42<00:00,  4.04it/s] "
     ]
    },
    {
     "name": "stdout",
     "output_type": "stream",
     "text": [
      "Input: SOS a lot of it depends on the class you play the chaotic evil wizard could be diabolical or downright sadistic while realizing that he is among kindred spirits in the party the chaotic evil cleric can be an agent of the evil god that opposes the enemy while still supporting the partys actions the chaotic evil fighter will feel right at home his intimidation tactics and martial might synchronize well with a dark agenda or the pursuit of riches the chaotic evil thief wont care about the job only that they get it done quickly and quietly with as much compensation as possible EOS\n",
      "Target: SOS take into consideration your class EOS\n",
      "Predicted: SOS be aware of the importance of the game EOS\n",
      "-----------------------------------\n"
     ]
    },
    {
     "name": "stderr",
     "output_type": "stream",
     "text": [
      "\n"
     ]
    },
    {
     "name": "stdout",
     "output_type": "stream",
     "text": [
      "Evaluating loss: 99.99%Test loss: 3.8896\n",
      "Evaluating model: 99.99%The average generated summary has 0.8250520678369533 words.\n",
      "The average generated summary has 13.690357532480412 words.\n",
      "-----------------------------------\n",
      "BLEU score: 0.0000\n",
      "Rouge-L-F score: 0.0526\n",
      "Rouge-1-F score: 0.0526\n",
      "Rouge-2-F score: 0.0357\n",
      "-----------------------------------\n",
      "Input: SOS you will need to switch over to the color you have chosen for your cupcake bottoms now cut your working yarn a few inches from the hook then tie the end of the new yarn to your working yarn as close to the hook as possible EOS\n",
      "Target: SOS switch colors EOS\n",
      "Predicted: SOS tie the yarn EOS\n",
      "-----------------------------------\n",
      "Input: SOS youve probably heard that you should eat the rainbow and its true the more color you eat the better how do you do that fruits and veggies they are nutrient dense packed with tons of vitamins and minerals and dont have a lot of calories you could eat pounds and pounds of salad and be okay imagine eating pounds and pounds of fried chicken green leafy vegetables are especially good for you spinach kale lettuce brussels sprouts cabbage and broccoli great choices carrots onions peppers squash the more colorful veggies are good too blueberries oranges bananas apples kiwis grapes strawberries and papayas are super UNK full of antioxidants fiber and vitamins and tasty to boot EOS\n",
      "Target: SOS pile on fruits and veggies EOS\n",
      "Predicted: SOS eat more fruits and vegetables EOS\n",
      "-----------------------------------\n",
      "Input: SOS this will only show if you selected remove everything in the previous step choose just remove my files if you are keeping the computer opt to remove files and clean the drive if you are selling or getting rid of your pc EOS\n",
      "Target: SOS if youve decided to remove everything select whether to perform a secure erase of your files EOS\n",
      "Predicted: SOS click the hard drive EOS\n",
      "-----------------------------------\n",
      "Input: SOS there are many websites that collect the names of companies that hire felons to find them search companies that hire felons in your favorite web browser you can then scroll down through the results to find any employers in your area some websites that host these lists include ranker UNK and UNK EOS\n",
      "Target: SOS search websites EOS\n",
      "Predicted: SOS find a local businesses EOS\n",
      "-----------------------------------\n",
      "Input: SOS social support has been shown to help individuals lose weightif your spouse or another loved one who you live with is trying to lose weight consider joining the program too if you are both working toward a common goal and sticking to a dieting and exercise routine it will be easier to stay focused and motivated if you are both cutting out junk food and sweets for example those temptations wont be stocked in your food pantry at home which will make the program easier for both of you EOS\n",
      "Target: SOS enroll in their weightloss program EOS\n",
      "Predicted: SOS get a support group EOS\n",
      "-----------------------------------\n"
     ]
    }
   ],
   "source": [
    "main(root_dir=root_dir,\n",
    "    model_hyperparams=model_hyperparams,\n",
    "    tuning=hyp_tuning,\n",
    "    optimizer_hyperparams=optimizer_hyperparams,\n",
    "    log_every=log_every,\n",
    "    print_examples_every=print_example_every,\n",
    "    load_checkpoint=load_checkpoint,\n",
    "    name=name,\n",
    "    legacy = legacy\n",
    "    )"
   ]
  },
  {
   "cell_type": "code",
   "execution_count": 10,
   "id": "b8cd4e20-88e6-41dd-89b6-dd2138ad0f54",
   "metadata": {},
   "outputs": [],
   "source": [
    "# %load_ext tensorboard\n",
    "# !tensorboard --logdir='tensorboard_logs'"
   ]
  }
 ],
 "metadata": {
  "accelerator": "GPU",
  "colab": {
   "gpuType": "T4",
   "provenance": []
  },
  "kernelspec": {
   "display_name": "Python 3 (ipykernel)",
   "language": "python",
   "name": "python3"
  },
  "language_info": {
   "codemirror_mode": {
    "name": "ipython",
    "version": 3
   },
   "file_extension": ".py",
   "mimetype": "text/x-python",
   "name": "python",
   "nbconvert_exporter": "python",
   "pygments_lexer": "ipython3",
   "version": "3.10.13"
  }
 },
 "nbformat": 4,
 "nbformat_minor": 5
}
